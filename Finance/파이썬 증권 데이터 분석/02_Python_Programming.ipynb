{
 "metadata": {
  "language_info": {
   "codemirror_mode": {
    "name": "ipython",
    "version": 3
   },
   "file_extension": ".py",
   "mimetype": "text/x-python",
   "name": "python",
   "nbconvert_exporter": "python",
   "pygments_lexer": "ipython3",
   "version": "3.8.3-final"
  },
  "orig_nbformat": 2,
  "kernelspec": {
   "name": "python3",
   "display_name": "Python 3",
   "language": "python"
  }
 },
 "nbformat": 4,
 "nbformat_minor": 2,
 "cells": [
  {
   "cell_type": "code",
   "execution_count": null,
   "metadata": {},
   "outputs": [],
   "source": [
    "from IPython.core.interactiveshell import InteractiveShell\n",
    "InteractiveShell.ast_node_interactivity = \"all\""
   ]
  },
  {
   "cell_type": "code",
   "execution_count": null,
   "metadata": {},
   "outputs": [],
   "source": [
    "5 // 3      # 나눗셈 결과의 몫\n",
    "5 % 3        # 나눗셈 결과의 나머지"
   ]
  },
  {
   "cell_type": "code",
   "execution_count": null,
   "metadata": {},
   "outputs": [],
   "source": [
    "for i in [1, 3, 5]:\n",
    "    print(i)"
   ]
  },
  {
   "cell_type": "code",
   "execution_count": null,
   "metadata": {},
   "outputs": [],
   "source": [
    "# range([시작값], 멈춤값[, 증가값])\n",
    "for i in range(1, 7, 2):\n",
    "    print(i)"
   ]
  },
  {
   "cell_type": "code",
   "execution_count": null,
   "metadata": {},
   "outputs": [],
   "source": [
    "try:\n",
    "    1/0\n",
    "except Exception as e:\n",
    "    print('Exception occured : ', str(e))"
   ]
  },
  {
   "cell_type": "code",
   "execution_count": null,
   "metadata": {},
   "outputs": [],
   "source": [
    "L = [ [1, 2], [3,4]]\n",
    "L\n",
    "L2 = L + L\n",
    "L2"
   ]
  },
  {
   "cell_type": "code",
   "execution_count": null,
   "metadata": {},
   "outputs": [],
   "source": [
    "L3 = L*3\n",
    "L3"
   ]
  },
  {
   "cell_type": "code",
   "execution_count": null,
   "metadata": {},
   "outputs": [],
   "source": [
    "myList = 'Thoughts become things.'.split()\n",
    "myList\n",
    "\n",
    "'_'.join(myList)"
   ]
  },
  {
   "cell_type": "code",
   "execution_count": null,
   "metadata": {},
   "outputs": [],
   "source": [
    "li = [2, 5, 3, 1, 4]\n",
    "li.sort()\n",
    "li"
   ]
  },
  {
   "cell_type": "code",
   "execution_count": null,
   "metadata": {},
   "outputs": [],
   "source": [
    "li = [2, 5, 3, 1, 4]\n",
    "li2 = sorted(li)\n",
    "\n",
    "li\n",
    "li2"
   ]
  },
  {
   "cell_type": "code",
   "execution_count": null,
   "metadata": {},
   "outputs": [],
   "source": [
    "L = [1, 2]\n",
    "L.append([3, 4])\n",
    "L"
   ]
  },
  {
   "cell_type": "code",
   "execution_count": null,
   "metadata": {},
   "outputs": [],
   "source": [
    "L.extend([3,4])\n",
    "L"
   ]
  },
  {
   "cell_type": "code",
   "execution_count": null,
   "metadata": {},
   "outputs": [],
   "source": [
    "'-'.join('2012/01/04'.split('/'))"
   ]
  },
  {
   "cell_type": "code",
   "execution_count": null,
   "metadata": {},
   "outputs": [],
   "source": [
    "'2012/01/04'.replace('/', '-')"
   ]
  },
  {
   "cell_type": "code",
   "execution_count": null,
   "metadata": {},
   "outputs": [],
   "source": [
    "'1,234,567,890'.replace(',', '')\n",
    "format(123456790, ',')"
   ]
  },
  {
   "cell_type": "code",
   "execution_count": null,
   "metadata": {},
   "outputs": [],
   "source": [
    "myList\n",
    "newList = myList[:]\n",
    "newList\n",
    "newList[-1] = 'actions.'\n",
    "myList\n",
    "newList"
   ]
  },
  {
   "cell_type": "code",
   "execution_count": null,
   "metadata": {},
   "outputs": [],
   "source": [
    "# 리스트 내포(comprehension)\n",
    "\n",
    "nums = [1, 2, 3, 4, 5]\n",
    "squares = []\n",
    "for x in nums:\n",
    "    squares.append(x**2)\n",
    "squares\n",
    "\n",
    "squares = [x**2 for x in nums if x % 2 == 0]\n",
    "squares"
   ]
  },
  {
   "cell_type": "code",
   "execution_count": null,
   "metadata": {},
   "outputs": [],
   "source": [
    "myTuple = ('a', 'b', 'c', [10, 20, 30], abs, max)\n",
    "myTuple[3]\n",
    "myTuple[4](-100)\n",
    "myTuple[5](myTuple[3])\n",
    "# myTuple[0] = 'A'"
   ]
  },
  {
   "cell_type": "code",
   "execution_count": null,
   "metadata": {},
   "outputs": [],
   "source": [
    "# timeit\n",
    "import timeit\n",
    "\n",
    "# timeit(테스트 구문, setup=테스트 준비 구문, number=테스트 반복 회수)\n",
    "iteration_test = \"\"\"\n",
    "for i in itr :\n",
    "    pass\n",
    "\"\"\"\n",
    "\n",
    "timeit.timeit(iteration_test, setup='itr = list(range(10000))', number=1000)\n",
    "timeit.timeit(iteration_test, setup='itr = tuple(range(10000))', number=1000)\n",
    "timeit.timeit(iteration_test, setup='itr = set(range(10000))', number=1000)"
   ]
  },
  {
   "cell_type": "code",
   "execution_count": null,
   "metadata": {},
   "outputs": [],
   "source": [
    "search_test = \"\"\"\n",
    "import random\n",
    "x = random.randint(0, len(itr)-1)\n",
    "for x in itr :\n",
    "    pass\n",
    "\"\"\"\n",
    "\n",
    "timeit.timeit(search_test, setup='itr = list(range(10000))', number=1000)\n",
    "timeit.timeit(search_test, setup='itr = tuple(range(10000))', number=1000)\n",
    "timeit.timeit(search_test, setup='itr = set(range(10000))', number=1000)"
   ]
  },
  {
   "cell_type": "code",
   "execution_count": null,
   "metadata": {},
   "outputs": [],
   "source": [
    "i = 3\n",
    "f = 1.0\n",
    "var = i * f\n",
    "print('{} : {}'.format(var, type(var)))\n",
    "\n",
    "dir()"
   ]
  },
  {
   "cell_type": "code",
   "execution_count": null,
   "metadata": {},
   "outputs": [],
   "source": [
    "help('keywords')"
   ]
  },
  {
   "cell_type": "code",
   "execution_count": null,
   "metadata": {},
   "outputs": [],
   "source": [
    "# 연평균 성장률(CAGR-Compound Annual Growth Rates) : 연복리 수익률\n",
    "# CAGR = (L/F) (1/Y) -1 \n",
    "# F = 처음값, L = 마지막 값, Y = 처음 값과 마지막 값 사이의 연(year) 수\n",
    "\n",
    "def getCARG(first, last, years):\n",
    "    return (last/first) ** (1/years) - 1"
   ]
  },
  {
   "cell_type": "code",
   "execution_count": null,
   "metadata": {},
   "outputs": [],
   "source": [
    "cagr = getCARG(65300, 2669000, 20)\n",
    "print(\"SEC CARG : {:.2%}\".format(cagr))"
   ]
  },
  {
   "cell_type": "code",
   "execution_count": null,
   "metadata": {},
   "outputs": [],
   "source": [
    "# 람다\n",
    "# def lambda(인수) :\n",
    "#   return 표현식\n",
    "\n",
    "insertComma = lambda x : format(x, ',')\n",
    "insertComma(123456789)"
   ]
  },
  {
   "cell_type": "code",
   "execution_count": null,
   "metadata": {},
   "outputs": [],
   "source": [
    "import keyword\n",
    "keyword.kwlist\n",
    "keyword.__file__"
   ]
  },
  {
   "cell_type": "code",
   "execution_count": null,
   "metadata": {},
   "outputs": [],
   "source": [
    "import urllib\n",
    "\n",
    "type(urllib)"
   ]
  },
  {
   "cell_type": "code",
   "execution_count": null,
   "metadata": {},
   "outputs": [],
   "source": [
    "import myPackage.moduleA\n"
   ]
  },
  {
   "cell_type": "code",
   "execution_count": null,
   "metadata": {},
   "outputs": [],
   "source": [
    "from myPackage import *\n",
    "\n",
    "moduleA.functionA()"
   ]
  },
  {
   "cell_type": "code",
   "execution_count": null,
   "metadata": {},
   "outputs": [],
   "source": [
    "import requests\n",
    "from PIL import Image\n"
   ]
  },
  {
   "cell_type": "code",
   "execution_count": null,
   "metadata": {},
   "outputs": [],
   "source": []
  },
  {
   "cell_type": "code",
   "execution_count": null,
   "metadata": {},
   "outputs": [],
   "source": [
    "url = 'http://bit.ly/2JnsHnT'\n",
    "r = requests.get(url, stream=True).raw\n",
    "\n",
    "img = Image.open(r)\n",
    "img.show()\n",
    "img.save('src.png')"
   ]
  },
  {
   "cell_type": "code",
   "execution_count": null,
   "metadata": {},
   "outputs": [],
   "source": [
    "print(img.get_format_mimetype)"
   ]
  }
 ]
}