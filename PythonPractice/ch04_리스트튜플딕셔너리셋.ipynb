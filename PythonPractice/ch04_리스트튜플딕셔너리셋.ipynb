{
 "metadata": {
  "language_info": {
   "codemirror_mode": {
    "name": "ipython",
    "version": 3
   },
   "file_extension": ".py",
   "mimetype": "text/x-python",
   "name": "python",
   "nbconvert_exporter": "python",
   "pygments_lexer": "ipython3",
   "version": "3.8.6-candidate"
  },
  "orig_nbformat": 2,
  "kernelspec": {
   "name": "Python 3.8.6 64-bit",
   "display_name": "Python 3.8.6 64-bit",
   "metadata": {
    "interpreter": {
     "hash": "d5ac5b24bb2e147f7753666f9b7ff5489d771e593d16fdc1847a7249dbe665fa"
    }
   }
  }
 },
 "nbformat": 4,
 "nbformat_minor": 2,
 "cells": [
  {
   "source": [
    "<h1> Chapter 4.  리스트, 튜플, 딕셔너리, 셋 </h1>\n",
    "### 시퀀스 자료형 \n",
    "' 여러 개의  값을 모아서 하나의 변수에 저장할 수 있는 자료형\n",
    "\n",
    "## 4.1 리스트\n",
    "* 내부에 저장되는 값은 순차적으로 접근 가능\n",
    "* 자료의 추가 및 삭제 용이\n",
    "* 중복허용\n",
    "* 저장된 값 변경 가능\n",
    "\n",
    "### 4.1.1 리스트의 생성 및 사용\n",
    "* 대괄호([])를 사용하여 리스트 자료형을 표기\n",
    "* 저장된 값들은 콤마(,)로 구분\n",
    "* range() : 연속된 숫자로 이루어진 리스트 생성\n",
    "* list() : 비어있는 리스트를 만듦\n",
    "* 인덱싱과 슬라이싱\n"
   ],
   "cell_type": "markdown",
   "metadata": {}
  },
  {
   "cell_type": "code",
   "execution_count": 31,
   "metadata": {
    "tags": []
   },
   "outputs": [
    {
     "output_type": "stream",
     "name": "stdout",
     "text": "[0, 1, 2, 3, 4, 5, 6, 7, 8, 9]\n[0, 1, 2, 3, 4, 5, 6, 7, 8, 9]\n[0, 2, 4, 6, 8]\n(10, 20, 30)\n[10, 20, 30]\n[0, 10, 20, 30, 40, 50, 60, 70, 80, 90]\n[0, 10, 20, 30, 40]\n[50, 60, 70, 80, 90]\n[0, 10, 20, 30, 40, 50, 60, 70]\n[80, 90]\nvalue[:5]\nvalue[5:]\n"
    }
   ],
   "source": [
    "a = list(range(10))\n",
    "print(a)\n",
    "b = list(range(0, 10))\n",
    "print(b)\n",
    "c = list(range(0, 10, 2))\n",
    "print(c)\n",
    "\n",
    "tuple_value = (10, 20 , 30)\n",
    "print(tuple_value)\n",
    "value7 = list(tuple_value)\n",
    "print(value7)\n",
    "\n",
    "value = list(range(0, 100, 10))\n",
    "print(value)\n",
    "print(value[:5])\n",
    "print(value[5:])\n",
    "print(value[:-2])\n",
    "print(value[-2:])"
   ]
  },
  {
   "source": [
    "### 4.1.3 리스트 연산\n",
    "* is : 두 변수가 같은 공간을 가르키고 있으면  True\n",
    "* copy() or list : 데이터 복사\n",
    "* del : 리스트 요소 삭제\n",
    "* in : 리스트 내부에 해당 값 존재 여부 확인\n",
    "* append() : 기존 리스트에 새로운 요소 추가\n",
    "* extend() : += 와 동일\n",
    "* insert() : 리스트의 원하는 위치에 삽입\n",
    "* remove() : 리스트의 요소 삭제\n",
    "* pop() : 요소값을 삭제하는 동시에 값을 가져온다.\n",
    "* index() : 해당 요소의  index 반환\n",
    "* count() : 전체 요소의 개수 반환\n",
    "* join() : 리스트를 문자열로 결합하기 위한 함수\n",
    "* sort() : 정렬\n",
    "* clear() : 모든 요소 삭제"
   ],
   "cell_type": "markdown",
   "metadata": {}
  },
  {
   "cell_type": "code",
   "execution_count": 1,
   "metadata": {
    "tags": []
   },
   "outputs": [
    {
     "output_type": "stream",
     "name": "stdout",
     "text": "[0, 1, 2, 3, 4, 5, 6, 7, 8, 9]\n[0, 1, 2, 3, 4, 5, 6, 7, 8, 9]\nFalse\n[0, 1, 2, 3, 4, 5, 6, 7, 8, 9]\nHello Kim Nice To Mee You\n['Hello', 'Kim', 'Nice', 'To', 'Mee', 'You']\nHello,Kim,Nice,To,Mee,You\n"
    }
   ],
   "source": [
    "value1  = list(range(10))\n",
    "print(value1)\n",
    "value2 = value1.copy()\n",
    "print(value2)\n",
    "print(value1 is value2)\n",
    "value3 = list(value1)\n",
    "print(value3)\n",
    "value1 is value2\n",
    "\n",
    "hello = \"Hello Kim Nice To Mee You\"\n",
    "print(hello)\n",
    "hello = hello.split()\n",
    "print(hello)\n",
    "hello = \",\".join(hello)\n",
    "print(hello)"
   ]
  },
  {
   "source": [
    "tuple## 4.2 튜플\n",
    "* 튜플은 내부의 요소의 값을 변경 불가\n",
    "* 튜플을 생성후에는 요소를 추가, 삭제, 수정할 수 없다.\n",
    "* 소괄호() 를 사용하여 표현\n",
    "* 파이썬에서 튜플을 출력할 때는 항상 괄호를 포함하여 출력하되, 요소가 하나인 튜플은 콤마와 괄호로 끝난다.\n",
    "* tuple() : 다른 객체를 tuple로 변환"
   ],
   "cell_type": "markdown",
   "metadata": {}
  },
  {
   "source": [
    "names_tuple = (\"Kim\", \"Lee\", \"Park\", \"Choi\")\n",
    "print(names_tuple)\n",
    "\n",
    "week_tuple = \"SUN\", \"MON\", \"TUE\", \"WEN\"\n",
    "print(week_tuple)\n",
    "\n",
    "one_tuple = (\"one\") # 튜플이 아닌 문자열 저장 변수\n",
    "print(one_tuple)\n",
    "\n",
    "\n",
    "\n",
    "one_tuple = \"one\",\n",
    "print(one_tuple)\n"
   ],
   "cell_type": "code",
   "metadata": {
    "tags": []
   },
   "execution_count": 3,
   "outputs": [
    {
     "output_type": "stream",
     "name": "stdout",
     "text": "('Kim', 'Lee', 'Park', 'Choi')\n('SUN', 'MON', 'TUE', 'WEN')\none\n('one',)\n"
    }
   ]
  },
  {
   "source": [
    "## 4.3 딕셔너리\n",
    "\n",
    "* 딕셔너리는 인덱스를 사용하지 않는 자료형\n",
    "* 사전이 단어와 설명이 쌍으로 이루어지는 것과 같이 인덱스를 대신에 고유한 키를 이용하여 값을 저장\n",
    "* 중괄호 {} 내부에 키와 콜론(:)을 이용하여 키:값의 형태로 저장\n",
    "* 키는 딕셔너리 내에서 유일한 값(중복 불가)\n",
    "* 중복된 키를 사용할 경우 마지막 값으로 대체\n",
    "* dict() : 키와 값으로 이루어진 딕셔너리를 만들 수 있음,  키는 딕셔너리에서 문자열로 변경\n",
    "* update() : 두 개의 딕셔너리를 키와 값들을 복사해서 다른 딕셔너리와 합치기 위해 사용\n",
    "* keys(): 딕셔너리에 포함된 모든 키를 반환\n",
    "* values(): 값만 모두 반환\n",
    "* items() : 키와 값 모두 반환\n",
    "values(): 값만 모두 반환\n",
    "* items() : 키와 값 모두 반환\n",
    "* pop() : 키에 해당하는 값을 반환하면서 키와 값을 삭제\n",
    "* clear()"
   ],
   "cell_type": "markdown",
   "metadata": {}
  },
  {
   "cell_type": "code",
   "execution_count": 11,
   "metadata": {
    "tags": []
   },
   "outputs": [
    {
     "output_type": "stream",
     "name": "stdout",
     "text": "{'Kim': 90, 'Lee': 80, 'Park': 95, 'Choi': 70}\n{'Kim': 90, 'Lee': 75, 'Park': 95, 'Choi': 70}\n{'Kim': 60, 'Lee': 50, 'Park': 40, 'Choi': 80}\n{'Kim': 60, 'Lee': 50, 'Park': 40, 'Choi': 80, 'Yang': 55, 'Soo': 95}\n('Kim', 'Lee', 'Park', 'Choi', 'Yang', 'Soo')\n[60, 50, 40, 80, 55, 95]\ndict_items([('Kim', 60), ('Lee', 50), ('Park', 40), ('Choi', 80), ('Yang', 55), ('Soo', 95)])\n"
    }
   ],
   "source": [
    "student = {\"Kim\":90, \"Lee\":80, \"Park\":95, \"Choi\":70}\n",
    "print(student)\n",
    "student = {\"Kim\":90, \"Lee\":80, \"Park\":95, \"Choi\":70, \"Lee\":75}\n",
    "print(student)\n",
    "student = dict(Kim=60, Lee=50, Park=40, Choi=80)\n",
    "print(student)\n",
    "student2 = {\"Yang\":55, \"Soo\":95}\n",
    "student.update(student2)\n",
    "print(student)\n",
    "\n",
    "print(tuple(student.keys()))\n",
    "print(list(student.values()))\n",
    "print(student.items())"
   ]
  },
  {
   "cell_type": "code",
   "execution_count": null,
   "metadata": {},
   "outputs": [],
   "source": [
    "## 4.4 셋\n",
    "\n",
    "* 셋은 집합에 관련된 것들을 쉽게 처리하기 위한 자료형으로, 값을 버리고 키만 남은 디셔너리와 같다.\n",
    "* 중괄호({})를 사용해 표기\n",
    "* intersection() : &연산자 , 교집합\n",
    "* union(): | 연산자, 합집합\n",
    "* difference() : - 연산자, 차집합\n",
    "* symmetric_difference() : ^ 연산자 (합집합 - 교집합)\n",
    "* 부분집합 : issubset, <= \n",
    "* 상위집합 : isupper >="
   ]
  },
  {
   "cell_type": "code",
   "execution_count": 16,
   "metadata": {},
   "outputs": [
    {
     "output_type": "execute_result",
     "data": {
      "text/plain": "True"
     },
     "metadata": {},
     "execution_count": 16
    }
   ],
   "source": [
    "set1 = {10, 20}\n",
    "set2 = {10, 20, 30, 40}\n",
    "\n",
    "set1 < set2"
   ]
  }
 ]
}