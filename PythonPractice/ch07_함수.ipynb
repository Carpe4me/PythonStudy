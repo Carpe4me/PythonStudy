{
 "metadata": {
  "language_info": {
   "codemirror_mode": {
    "name": "ipython",
    "version": 3
   },
   "file_extension": ".py",
   "mimetype": "text/x-python",
   "name": "python",
   "nbconvert_exporter": "python",
   "pygments_lexer": "ipython3",
   "version": "3.8.6-candidate"
  },
  "orig_nbformat": 2,
  "kernelspec": {
   "name": "Python 3.8.6 64-bit",
   "display_name": "Python 3.8.6 64-bit",
   "metadata": {
    "interpreter": {
     "hash": "d5ac5b24bb2e147f7753666f9b7ff5489d771e593d16fdc1847a7249dbe665fa"
    }
   }
  }
 },
 "nbformat": 4,
 "nbformat_minor": 2,
 "cells": [
  {
   "cell_type": "code",
   "execution_count": null,
   "metadata": {},
   "outputs": [],
   "source": [
    "# Chapter 07. 함수\n",
    "\n",
    "## 7.1 함수의 기본 구성\n",
    "## 7.2 함수의 인수\n",
    "### 7.2.3 위치 인수 모으기\n",
    "* 여러개의 값을 한 번에 전달하려면 리스트 또는 튜플 앞에 *(애스터리크)를 붙여서 함수의 인수로 사용\n",
    "* 함수 정의시 * 사용하여 가변 위치 인수 사용가능\n",
    "\n",
    "### 7.2.4 키워드 인수 모드기\n",
    "\n",
    "## 7.5 람다 함수\n",
    "* 람다함수는 함수를 정의할 때 def 대신 lamda 를 사용하며, 하나의 줄로 표현되는 익명 함수이다.\n",
    "* 변수 = lambda 매개변수 : 매개변수를 이용한 표현식"
   ]
  },
  {
   "source": [
    "# 위치 인수 모으기\n",
    "def add(a, b):\n",
    "    return a+b\n",
    "\n",
    "values = [10, 20]\n",
    "print(add(*values))\n",
    "\n",
    "# 가변 위치 인수\n",
    "def addAll(*args):\n",
    "    sum = 0\n",
    "    for v in args:\n",
    "        sum += v\n",
    "    return sum\n",
    "        \n",
    "print(addAll(*values))\n",
    "\n",
    "# 키워드 인수 모으기\n",
    "def print_score(name, score):\n",
    "    print(\"Name = %s \" % name)\n",
    "    print(\"Score =%d \" % score)\n",
    "\n",
    "students = {\"name\":\"Kim\", \"score\":90}\n",
    "print_score(**students)\n",
    "\n",
    "add = lambda a, b : a + b\n",
    "print(add(10, 20))\n"
   ],
   "cell_type": "code",
   "metadata": {
    "tags": []
   },
   "execution_count": 1,
   "outputs": [
    {
     "output_type": "stream",
     "name": "stdout",
     "text": "30\n30\nName = Kim \nScore =90 \n30\n"
    }
   ]
  },
  {
   "source": [
    "# Chapter 08. 변수 범위, 내부함수, 클로저, 데코레이터\n",
    "\n",
    "## 8.4 데코레이터\n",
    "### 8.4.1 데코레이터의 정의\n",
    "* 코드를 변경하지 않고 사용하고 있는 함수에 부가적인 기능을 추가할 경우\n",
    "* def 데코레이터명(func):\n",
    "*   def 내부함수명(*args, **kwargs):\n",
    "*       기존 함수에 추가할 명령\n",
    "*       return func(*args, **kwargs)\n",
    "*   return 내부함수명"
   ],
   "cell_type": "markdown",
   "metadata": {}
  },
  {
   "cell_type": "code",
   "execution_count": 12,
   "metadata": {
    "tags": []
   },
   "outputs": [
    {
     "output_type": "stream",
     "name": "stdout",
     "text": "==============================\nHello\n==============================\n==============================\nWorld!\n==============================\n"
    }
   ],
   "source": [
    "def print_bar(func):\n",
    "    def bars():\n",
    "        print(\"=\" * 30)\n",
    "        func()\n",
    "        print(\"=\" * 30)\n",
    "    return bars\n",
    "\n",
    "def print_Hello():\n",
    "    print(\"Hello\")\n",
    "\n",
    "def print_World():\n",
    "    print(\"World!\")\n",
    "\n",
    "hello = print_bar(print_Hello);\n",
    "hello()\n",
    "\n",
    "world = print_bar(print_World);\n",
    "world()"
   ]
  },
  {
   "source": [
    "### 8.4.1 데코레이터의 정의\n",
    "* @데코레이터\n",
    "* def 함수이름():\n",
    "*    문장"
   ],
   "cell_type": "markdown",
   "metadata": {}
  },
  {
   "cell_type": "code",
   "execution_count": 16,
   "metadata": {
    "tags": []
   },
   "outputs": [
    {
     "output_type": "stream",
     "name": "stdout",
     "text": "==============================\nHello World!\n========================================\n"
    }
   ],
   "source": [
    "def up_bar(func):\n",
    "    def bars():\n",
    "        print(\"=\" * 30)\n",
    "        func()\n",
    "    return bars\n",
    "\n",
    "def down_bar(func):\n",
    "    def bars():\n",
    "        func()\n",
    "        print(\"=\" * 40)\n",
    "    return bars;\n",
    "\n",
    "@up_bar \n",
    "@down_bar\n",
    "def hello_world():\n",
    "    print(\"Hello World!\")\n",
    "\n",
    "hello_world()"
   ]
  },
  {
   "cell_type": "code",
   "execution_count": null,
   "metadata": {},
   "outputs": [],
   "source": []
  }
 ]
}