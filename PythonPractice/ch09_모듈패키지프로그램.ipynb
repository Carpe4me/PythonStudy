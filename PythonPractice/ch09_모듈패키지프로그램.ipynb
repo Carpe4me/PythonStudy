{
 "metadata": {
  "language_info": {
   "codemirror_mode": {
    "name": "ipython",
    "version": 3
   },
   "file_extension": ".py",
   "mimetype": "text/x-python",
   "name": "python",
   "nbconvert_exporter": "python",
   "pygments_lexer": "ipython3",
   "version": "3.8.6-candidate"
  },
  "orig_nbformat": 2,
  "kernelspec": {
   "name": "Python 3.8.6 64-bit",
   "display_name": "Python 3.8.6 64-bit",
   "metadata": {
    "interpreter": {
     "hash": "d5ac5b24bb2e147f7753666f9b7ff5489d771e593d16fdc1847a7249dbe665fa"
    }
   }
  }
 },
 "nbformat": 4,
 "nbformat_minor": 2,
 "cells": [
  {
   "source": [
    "# Chapter 09. 모듈, 패키지, 프로그래\n",
    "\n",
    "## 9.1 프로그램에 모듈 추가하기\n",
    "* from ~ import ~ : 모듈내의 일부만 추가\n",
    "* from ~ import ~ as ~ : 일부 가져온 모듈에 이름 지정\n",
    "* del ~ : 가져온 모듈 해제"
   ],
   "cell_type": "markdown",
   "metadata": {}
  },
  {
   "cell_type": "code",
   "execution_count": 7,
   "metadata": {
    "tags": []
   },
   "outputs": [
    {
     "output_type": "stream",
     "name": "stdout",
     "text": "2.0\n3\n"
    },
    {
     "output_type": "execute_result",
     "data": {
      "text/plain": "2.0"
     },
     "metadata": {},
     "execution_count": 7
    }
   ],
   "source": [
    "import math, statistics\n",
    "\n",
    "print(math.sqrt(4))\n",
    "\n",
    "print(statistics.mean([1,2,3,4,5]))\n",
    "\n",
    "import sys\n",
    "sys.path\n",
    "\n",
    "from math import sqrt\n",
    "sqrt(4)\n",
    "\n",
    "from math import sqrt as sq\n",
    "sq(4)\n",
    "\n",
    "# del math\n",
    "# math.sqrt(4)"
   ]
  },
  {
   "source": [
    "## 9.2 모듈 만들기\n",
    "\n",
    "* .py 확장자를 갖는 파이썬 스크립트 파일을 생성하기만 하면 모듈이 완성됨.\n",
    "* 파일의 이름이 모듈의 이름이 되며, import 문장을 이용하여 모듈을 추가 가능하다.\n",
    "* if __name__ == \"__main__\": 자동추가 되는 것을 방지"
   ],
   "cell_type": "markdown",
   "metadata": {}
  },
  {
   "cell_type": "code",
   "execution_count": 4,
   "metadata": {
    "tags": []
   },
   "outputs": [
    {
     "output_type": "execute_result",
     "data": {
      "text/plain": "120"
     },
     "metadata": {},
     "execution_count": 4
    }
   ],
   "source": [
    "import os\n",
    "os.getcwd()\n",
    "\n",
    "import ch09_module\n",
    "\n",
    "ch09_module.add(100, 20)\n"
   ]
  },
  {
   "source": [
    "## 9.3 패키지 만들기\n",
    "\n",
    "* 파이썬 패키지는 폴더(디렉터리)로 구성되어 있는 여러 개의 스크립 파일이라고 생각하면 된다."
   ],
   "cell_type": "markdown",
   "metadata": {}
  },
  {
   "cell_type": "code",
   "execution_count": 3,
   "metadata": {},
   "outputs": [
    {
     "output_type": "execute_result",
     "data": {
      "text/plain": "33"
     },
     "metadata": {},
     "execution_count": 3
    }
   ],
   "source": [
    "import calc.add_sub\n",
    "\n",
    "calc.add_sub.add(10, 20)\n",
    "\n",
    "from calc import add_sub\n",
    "add_sub.add(11, 22)"
   ]
  },
  {
   "source": [
    "## 9.4 외부 모듈 및 패키지 추가하기\n",
    "\n",
    "* pip: 파이썬 패키지 인덱스의 패키지 관리를 위한 프로그램\n",
    "* pip search 패키지명\n",
    "* pip install 패키지명\n",
    "* pip uninstall 패키지명\n",
    "* pip install --upgrade 패키지명\n",
    "* pip show 패키지명\n",
    "* pip list\n",
    "\n",
    "* pip install pyinstaller"
   ],
   "cell_type": "markdown",
   "metadata": {}
  }
 ]
}