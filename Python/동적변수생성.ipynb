{
 "cells": [
  {
   "cell_type": "markdown",
   "metadata": {},
   "source": [
    "# 파이썬 동적으로 변수 생성하기 \n",
    "## (for문으로 변수 생성, locals(), globals())\n",
    "### 1. locals()함수와 globals()함수\n",
    "- 파이썬에서 동적으로 변수를 생성하려면 locals()함수나 globals()함수를 사용해야 합니다.\n",
    "- locals()함수는 현재 local변수들을 딕셔너리형태로 return합니다.\n",
    "- globals()함수는 현재 global 변수들을 딕셔너리 형태로 return합니다."
   ]
  },
  {
   "cell_type": "code",
   "execution_count": null,
   "metadata": {},
   "outputs": [],
   "source": [
    "from IPython.core.interactiveshell import InteractiveShell\n",
    "InteractiveShell.ast_node_interactivity = \"all\""
   ]
  },
  {
   "cell_type": "code",
   "execution_count": null,
   "metadata": {},
   "outputs": [],
   "source": [
    "def localTest():\n",
    "    localVar1 = \"Hi\"\n",
    "    localVar2 = 200\n",
    "    localVar3 = [40, 50, 60]\n",
    "\n",
    "    print(\"globals() in function\\n\", globals(), \"\\n\")\n",
    "    print(\"locals() in function\\n\", locals(), \"\\n\")\n",
    "\n",
    "globalVar1 = \"Hello\"\n",
    "globalVar2 = 100\n",
    "globalVar3 = [10, 20, 30]\n",
    "\n",
    "localTest()"
   ]
  },
  {
   "cell_type": "markdown",
   "metadata": {},
   "source": [
    "## 2. 파이썬 동적으로 변수 생성하기 (for문으로 변수 생성하기)"
   ]
  },
  {
   "cell_type": "code",
   "execution_count": 1,
   "metadata": {},
   "outputs": [
    {
     "name": "stdout",
     "output_type": "stream",
     "text": [
      "{'__name__': '__main__', '__doc__': 'Automatically created module for IPython interactive environment', '__package__': None, '__loader__': None, '__spec__': None, '__builtin__': <module 'builtins' (built-in)>, '__builtins__': <module 'builtins' (built-in)>, '_ih': ['', \"locals()['test'] = 100     # {'test': 100} item 추가\\nprint(locals())\\n\\nfor i in range(1, 4):\\n    locals()['test' + str(i)] = i * 10\\n# print(locals())    \"], '_oh': {}, '_dh': ['C:\\\\Dev\\\\Microsoft VS Code', 'd:\\\\gitHub\\\\PythonStudy\\\\Python'], 'In': ['', \"locals()['test'] = 100     # {'test': 100} item 추가\\nprint(locals())\\n\\nfor i in range(1, 4):\\n    locals()['test' + str(i)] = i * 10\\n# print(locals())    \"], 'Out': {}, 'get_ipython': <bound method InteractiveShell.get_ipython of <ipykernel.zmqshell.ZMQInteractiveShell object at 0x000001E5749F5970>>, 'exit': <IPython.core.autocall.ZMQExitAutocall object at 0x000001E574A55F10>, 'quit': <IPython.core.autocall.ZMQExitAutocall object at 0x000001E574A55F10>, '_': '', '__': '', '___': '', '_rwho_ls': [], 'os': <module 'os' from 'C:\\\\Dev\\\\anaconda3\\\\envs\\\\python3.8\\\\lib\\\\os.py'>, 'sys': <module 'sys' (built-in)>, '_i': '', '_ii': '', '_iii': '', '_i1': \"locals()['test'] = 100     # {'test': 100} item 추가\\nprint(locals())\\n\\nfor i in range(1, 4):\\n    locals()['test' + str(i)] = i * 10\\n# print(locals())    \", 'test': 100}\n"
     ]
    }
   ],
   "source": [
    "locals()['test'] = 100     # {'test': 100} item 추가\n",
    "print(locals())\n",
    "\n",
    "for i in range(1, 4):\n",
    "    locals()['test' + str(i)] = i * 10\n",
    "# print(locals())    "
   ]
  }
 ],
 "metadata": {
  "kernelspec": {
   "display_name": "Python 3",
   "language": "python",
   "name": "python3"
  },
  "language_info": {
   "codemirror_mode": {
    "name": "ipython",
    "version": 3
   },
   "file_extension": ".py",
   "mimetype": "text/x-python",
   "name": "python",
   "nbconvert_exporter": "python",
   "pygments_lexer": "ipython3",
   "version": "3.8.3"
  }
 },
 "nbformat": 4,
 "nbformat_minor": 4
}
