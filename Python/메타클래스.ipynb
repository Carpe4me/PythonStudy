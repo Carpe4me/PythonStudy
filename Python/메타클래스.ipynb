{
 "metadata": {
  "language_info": {
   "codemirror_mode": {
    "name": "ipython",
    "version": 3
   },
   "file_extension": ".py",
   "mimetype": "text/x-python",
   "name": "python",
   "nbconvert_exporter": "python",
   "pygments_lexer": "ipython3",
   "version": "3.8.7-final"
  },
  "orig_nbformat": 2,
  "kernelspec": {
   "name": "python3",
   "display_name": "Python 3",
   "language": "python"
  }
 },
 "nbformat": 4,
 "nbformat_minor": 2,
 "cells": [
  {
   "source": [
    "# 메타 클래스\n",
    "\n",
    "### https://alphahackerhan.tistory.com/34\n",
    "- 메타클래스 : 클래스라는 객체를 만들기 위한 클래스\n",
    "\n",
    "## 생성방법 1\n",
    "- 클래스 = type('클래스이름', 기반클래스튜플, 속성메서드딕셔너리)\n",
    "\n",
    "## 생성방법 2\n",
    "- type을 상속받아서 메타 클래스 구현"
   ],
   "cell_type": "markdown",
   "metadata": {}
  },
  {
   "cell_type": "code",
   "execution_count": 1,
   "metadata": {},
   "outputs": [],
   "source": [
    "from IPython.core.interactiveshell import InteractiveShell\n",
    "InteractiveShell.ast_node_interactivity = \"all\""
   ]
  },
  {
   "cell_type": "code",
   "execution_count": 6,
   "metadata": {},
   "outputs": [
    {
     "output_type": "execute_result",
     "data": {
      "text/plain": [
       "__main__.Hello"
      ]
     },
     "metadata": {},
     "execution_count": 6
    },
    {
     "output_type": "execute_result",
     "data": {
      "text/plain": [
       "<__main__.Hello at 0x1eff7769160>"
      ]
     },
     "metadata": {},
     "execution_count": 6
    }
   ],
   "source": [
    "# 방법 1\n",
    "Hello = type('Hello', (), {})   # type으로 클래스 Hello 생성\n",
    "Hello\n",
    "\n",
    "h = Hello()     # 클래스 Hello로 인스턴스 h 생성\n",
    "h"
   ]
  },
  {
   "cell_type": "code",
   "execution_count": 7,
   "metadata": {},
   "outputs": [
    {
     "output_type": "execute_result",
     "data": {
      "text/plain": [
       "'계산클래스'"
      ]
     },
     "metadata": {},
     "execution_count": 7
    },
    {
     "output_type": "execute_result",
     "data": {
      "text/plain": [
       "3"
      ]
     },
     "metadata": {},
     "execution_count": 7
    }
   ],
   "source": [
    "# 방법2\n",
    "class MakeCalc(type):\n",
    "    def __new__(metacls, name, base, namespace):\n",
    "        namespace['desc'] = '계산클래스'\n",
    "        namespace['add'] = lambda self, a, b : a+b\n",
    "        return type.__new__(metacls, name, base, namespace)\n",
    "\n",
    "Calc = MakeCalc('Calc', (), {})\n",
    "c = Calc()\n",
    "c.desc\n",
    "c.add(1 , 2)\n"
   ]
  },
  {
   "source": [
    "## 메타클래스의 활용\n",
    " 메타클래스의 활용\n",
    "- 우리가 특정 클래스의 동작을 제어하고 싶을 때 사용"
   ],
   "cell_type": "markdown",
   "metadata": {}
  },
  {
   "cell_type": "code",
   "execution_count": 10,
   "metadata": {},
   "outputs": [
    {
     "output_type": "stream",
     "name": "stdout",
     "text": [
      "called __call__\ncalled __call__\nFalse\n"
     ]
    }
   ],
   "source": [
    "class Singleton(type):  # type을 상속받음\n",
    "    __instances = {}    # 클래스의 인스턴스를 저장할 속성\n",
    "    def __call__(cls, *args, **kwargs):     # 클래스로 인스턴스를 만들 때 호출되는 메소드\n",
    "        print(\"called: __call__\")\n",
    "        if cls not in cls.__instances:      # 클래스로 인스턴스를 생성하지 않았는지 확인\n",
    "            cls.__instances[cls] = super().__call__(*args, **kwargs) # 생성하지 않았으면 인스턴스를 생성하여 속성에 저장\n",
    "        return cls.__instances[cls]     # 클래스로 인스턴스를 생성했으면 인스턴스 반환\n",
    "\n",
    "class Hello(metaclass=Singleton):   # 메타클래스로 Singleton을 지정\n",
    "    pass\n",
    "\n",
    "a = Hello()\n",
    "b = Hello()\n",
    "\n",
    "print(a is b)"
   ]
  }
 ]
}