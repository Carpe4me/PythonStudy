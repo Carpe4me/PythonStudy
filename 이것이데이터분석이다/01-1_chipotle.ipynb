{
 "cells": [
  {
   "cell_type": "markdown",
   "metadata": {},
   "source": [
    "- [<Step1. 탐색> : 데이터의 기초 정보 살펴보기](#<Step1.-탐색>-:-데이터의-기초-정보-살펴보기)\n",
    "    - [Chipotle 데이터셋의 기본 정보]\n",
    "    - [Chipotle 데이터셋의 행과 열, 데이터]\n",
    "    - [Chipotle 데이터셋의 수치적 특징 파악]\n",
    "\n",
    "- [<Step3. 데이터 전처리> : 나만의 조력자를 정의하자](#<Step3.-데이터-전처리>-:-나만의-조력자를-정의하자)\n",
    "    - [apply와 lambda 함수를 이용한 데이터 전처리]\n"
   ]
  },
  {
   "source": [
    "## chipotle Table 정보\n",
    "- order_id : 주문번호\n",
    "- quantity : 아이템의 주문 수량\n",
    "- item_name\t: 주문한 아이템의 이름\n",
    "- choice_description : 주문한 아이템의 상세 선택 옵션\n",
    "- item_price : 주문 아이템의 가격정보"
   ],
   "cell_type": "markdown",
   "metadata": {}
  },
  {
   "cell_type": "code",
   "execution_count": 1,
   "metadata": {},
   "outputs": [
    {
     "output_type": "stream",
     "name": "stdout",
     "text": [
      "<class 'pandas.core.frame.DataFrame'>\nRangeIndex: 4622 entries, 0 to 4621\nData columns (total 5 columns):\n #   Column              Non-Null Count  Dtype  \n---  ------              --------------  -----  \n 0   order_id            4622 non-null   object \n 1   quantity            4622 non-null   int64  \n 2   item_name           4622 non-null   object \n 3   choice_description  3376 non-null   object \n 4   item_price          4622 non-null   float64\ndtypes: float64(1), int64(1), object(3)\nmemory usage: 180.7+ KB\n"
     ]
    },
    {
     "output_type": "execute_result",
     "data": {
      "text/plain": [
       "  order_id  quantity                              item_name  \\\n",
       "0        1         1           Chips and Fresh Tomato Salsa   \n",
       "1        1         1                                   Izze   \n",
       "2        1         1                       Nantucket Nectar   \n",
       "3        1         1  Chips and Tomatillo-Green Chili Salsa   \n",
       "4        2         2                           Chicken Bowl   \n",
       "\n",
       "                                  choice_description  item_price  \n",
       "0                                                NaN        2.39  \n",
       "1                                       [Clementine]        3.39  \n",
       "2                                            [Apple]        3.39  \n",
       "3                                                NaN        2.39  \n",
       "4  [Tomatillo-Red Chili Salsa (Hot), [Black Beans...       16.98  "
      ],
      "text/html": "<div>\n<style scoped>\n    .dataframe tbody tr th:only-of-type {\n        vertical-align: middle;\n    }\n\n    .dataframe tbody tr th {\n        vertical-align: top;\n    }\n\n    .dataframe thead th {\n        text-align: right;\n    }\n</style>\n<table border=\"1\" class=\"dataframe\">\n  <thead>\n    <tr style=\"text-align: right;\">\n      <th></th>\n      <th>order_id</th>\n      <th>quantity</th>\n      <th>item_name</th>\n      <th>choice_description</th>\n      <th>item_price</th>\n    </tr>\n  </thead>\n  <tbody>\n    <tr>\n      <th>0</th>\n      <td>1</td>\n      <td>1</td>\n      <td>Chips and Fresh Tomato Salsa</td>\n      <td>NaN</td>\n      <td>2.39</td>\n    </tr>\n    <tr>\n      <th>1</th>\n      <td>1</td>\n      <td>1</td>\n      <td>Izze</td>\n      <td>[Clementine]</td>\n      <td>3.39</td>\n    </tr>\n    <tr>\n      <th>2</th>\n      <td>1</td>\n      <td>1</td>\n      <td>Nantucket Nectar</td>\n      <td>[Apple]</td>\n      <td>3.39</td>\n    </tr>\n    <tr>\n      <th>3</th>\n      <td>1</td>\n      <td>1</td>\n      <td>Chips and Tomatillo-Green Chili Salsa</td>\n      <td>NaN</td>\n      <td>2.39</td>\n    </tr>\n    <tr>\n      <th>4</th>\n      <td>2</td>\n      <td>2</td>\n      <td>Chicken Bowl</td>\n      <td>[Tomatillo-Red Chili Salsa (Hot), [Black Beans...</td>\n      <td>16.98</td>\n    </tr>\n  </tbody>\n</table>\n</div>"
     },
     "metadata": {},
     "execution_count": 1
    }
   ],
   "source": [
    "import pandas as pd\n",
    "\n",
    "file_path = './data/chipotle.tsv'\n",
    "chipotle = pd.read_csv(file_path, sep='\\t')\n",
    "\n",
    "# chipotle.head()\n",
    "chipotle['order_id'] = chipotle['order_id'].astype(str)\n",
    "chipotle['item_price'] = chipotle['item_price'].apply(lambda x : float(x[1:]))\n",
    "\n",
    "chipotle.info()\n",
    "chipotle.head()"
   ]
  },
  {
   "source": [
    "- [<Step2. 인사이트의 발견> : 탐색과 시각화](#<Step2.-인사이트의-발견>-:-탐색과-시각화)\n",
    "    - [가장 많이 주문한 item]\n",
    "    - [item당 주문 개수와 총량 구하기]\n",
    "    - [시각화로 분석 결과 살펴보기]"
   ],
   "cell_type": "markdown",
   "metadata": {}
  },
  {
   "cell_type": "code",
   "execution_count": 2,
   "metadata": {},
   "outputs": [
    {
     "output_type": "execute_result",
     "data": {
      "text/plain": [
       "Chicken Bowl                    726\n",
       "Chicken Burrito                 553\n",
       "Chips and Guacamole             479\n",
       "Steak Burrito                   368\n",
       "Canned Soft Drink               301\n",
       "Chips                           211\n",
       "Steak Bowl                      211\n",
       "Bottled Water                   162\n",
       "Chicken Soft Tacos              115\n",
       "Chips and Fresh Tomato Salsa    110\n",
       "Name: item_name, dtype: int64"
      ]
     },
     "metadata": {},
     "execution_count": 2
    }
   ],
   "source": [
    "ordered_count = chipotle['item_name'].value_counts()\n",
    "ordered_count[:10]"
   ]
  },
  {
   "cell_type": "code",
   "execution_count": 3,
   "metadata": {},
   "outputs": [
    {
     "output_type": "execute_result",
     "data": {
      "text/plain": [
       "item_name\n",
       "6 Pack Soft Drink         54\n",
       "Barbacoa Bowl             66\n",
       "Barbacoa Burrito          91\n",
       "Barbacoa Crispy Tacos     11\n",
       "Barbacoa Salad Bowl       10\n",
       "Barbacoa Soft Tacos       25\n",
       "Bottled Water            162\n",
       "Bowl                       2\n",
       "Burrito                    6\n",
       "Canned Soda              104\n",
       "Name: order_id, dtype: int64"
      ]
     },
     "metadata": {},
     "execution_count": 3
    }
   ],
   "source": [
    "item_quantity = chipotle.groupby('item_name')['order_id'].count()\n",
    "item_quantity[:10]"
   ]
  },
  {
   "cell_type": "code",
   "execution_count": 4,
   "metadata": {},
   "outputs": [
    {
     "output_type": "execute_result",
     "data": {
      "text/plain": [
       "item_name\n",
       "6 Pack Soft Drink         55\n",
       "Barbacoa Bowl             66\n",
       "Barbacoa Burrito          91\n",
       "Barbacoa Crispy Tacos     12\n",
       "Barbacoa Salad Bowl       10\n",
       "Barbacoa Soft Tacos       25\n",
       "Bottled Water            211\n",
       "Bowl                       4\n",
       "Burrito                    6\n",
       "Canned Soda              126\n",
       "Name: quantity, dtype: int64"
      ]
     },
     "metadata": {},
     "execution_count": 4
    }
   ],
   "source": [
    "item_quantity = chipotle.groupby('item_name')['quantity'].sum() \n",
    "item_quantity[:10]"
   ]
  },
  {
   "cell_type": "code",
   "execution_count": 5,
   "metadata": {},
   "outputs": [
    {
     "output_type": "display_data",
     "data": {
      "text/plain": "<Figure size 432x288 with 1 Axes>",
      "image/svg+xml": "<?xml version=\"1.0\" encoding=\"utf-8\" standalone=\"no\"?>\r\n<!DOCTYPE svg PUBLIC \"-//W3C//DTD SVG 1.1//EN\"\r\n  \"http://www.w3.org/Graphics/SVG/1.1/DTD/svg11.dtd\">\r\n<!-- Created with matplotlib (https://matplotlib.org/) -->\r\n<svg height=\"263.63625pt\" version=\"1.1\" viewBox=\"0 0 389.24375 263.63625\" width=\"389.24375pt\" xmlns=\"http://www.w3.org/2000/svg\" xmlns:xlink=\"http://www.w3.org/1999/xlink\">\r\n <metadata>\r\n  <rdf:RDF xmlns:cc=\"http://creativecommons.org/ns#\" xmlns:dc=\"http://purl.org/dc/elements/1.1/\" xmlns:rdf=\"http://www.w3.org/1999/02/22-rdf-syntax-ns#\">\r\n   <cc:Work>\r\n    <dc:type rdf:resource=\"http://purl.org/dc/dcmitype/StillImage\"/>\r\n    <dc:date>2020-10-24T15:51:14.168057</dc:date>\r\n    <dc:format>image/svg+xml</dc:format>\r\n    <dc:creator>\r\n     <cc:Agent>\r\n      <dc:title>Matplotlib v3.3.1, https://matplotlib.org/</dc:title>\r\n     </cc:Agent>\r\n    </dc:creator>\r\n   </cc:Work>\r\n  </rdf:RDF>\r\n </metadata>\r\n <defs>\r\n  <style type=\"text/css\">*{stroke-linecap:butt;stroke-linejoin:round;}</style>\r\n </defs>\r\n <g id=\"figure_1\">\r\n  <g id=\"patch_1\">\r\n   <path d=\"M 0 263.63625 \r\nL 389.24375 263.63625 \r\nL 389.24375 0 \r\nL 0 0 \r\nz\r\n\" style=\"fill:none;\"/>\r\n  </g>\r\n  <g id=\"axes_1\">\r\n   <g id=\"patch_2\">\r\n    <path d=\"M 47.24375 239.758125 \r\nL 382.04375 239.758125 \r\nL 382.04375 22.318125 \r\nL 47.24375 22.318125 \r\nz\r\n\" style=\"fill:#ffffff;\"/>\r\n   </g>\r\n   <g id=\"patch_3\">\r\n    <path clip-path=\"url(#p9ba17591bd)\" d=\"M 62.461932 239.758125 \r\nL 67.351308 239.758125 \r\nL 67.351308 224.791352 \r\nL 62.461932 224.791352 \r\nz\r\n\" style=\"fill:#1f77b4;\"/>\r\n   </g>\r\n   <g id=\"patch_4\">\r\n    <path clip-path=\"url(#p9ba17591bd)\" d=\"M 68.573651 239.758125 \r\nL 73.463027 239.758125 \r\nL 73.463027 221.797997 \r\nL 68.573651 221.797997 \r\nz\r\n\" style=\"fill:#1f77b4;\"/>\r\n   </g>\r\n   <g id=\"patch_5\">\r\n    <path clip-path=\"url(#p9ba17591bd)\" d=\"M 74.685371 239.758125 \r\nL 79.574747 239.758125 \r\nL 79.574747 214.994919 \r\nL 74.685371 214.994919 \r\nz\r\n\" style=\"fill:#1f77b4;\"/>\r\n   </g>\r\n   <g id=\"patch_6\">\r\n    <path clip-path=\"url(#p9ba17591bd)\" d=\"M 80.797091 239.758125 \r\nL 85.686466 239.758125 \r\nL 85.686466 236.492647 \r\nL 80.797091 236.492647 \r\nz\r\n\" style=\"fill:#1f77b4;\"/>\r\n   </g>\r\n   <g id=\"patch_7\">\r\n    <path clip-path=\"url(#p9ba17591bd)\" d=\"M 86.90881 239.758125 \r\nL 91.798186 239.758125 \r\nL 91.798186 237.036894 \r\nL 86.90881 237.036894 \r\nz\r\n\" style=\"fill:#1f77b4;\"/>\r\n   </g>\r\n   <g id=\"patch_8\">\r\n    <path clip-path=\"url(#p9ba17591bd)\" d=\"M 93.02053 239.758125 \r\nL 97.909906 239.758125 \r\nL 97.909906 232.955046 \r\nL 93.02053 232.955046 \r\nz\r\n\" style=\"fill:#1f77b4;\"/>\r\n   </g>\r\n   <g id=\"patch_9\">\r\n    <path clip-path=\"url(#p9ba17591bd)\" d=\"M 99.132249 239.758125 \r\nL 104.021625 239.758125 \r\nL 104.021625 182.340141 \r\nL 99.132249 182.340141 \r\nz\r\n\" style=\"fill:#1f77b4;\"/>\r\n   </g>\r\n   <g id=\"patch_10\">\r\n    <path clip-path=\"url(#p9ba17591bd)\" d=\"M 105.243969 239.758125 \r\nL 110.133345 239.758125 \r\nL 110.133345 238.669632 \r\nL 105.243969 238.669632 \r\nz\r\n\" style=\"fill:#1f77b4;\"/>\r\n   </g>\r\n   <g id=\"patch_11\">\r\n    <path clip-path=\"url(#p9ba17591bd)\" d=\"M 111.355689 239.758125 \r\nL 116.245064 239.758125 \r\nL 116.245064 238.125386 \r\nL 111.355689 238.125386 \r\nz\r\n\" style=\"fill:#1f77b4;\"/>\r\n   </g>\r\n   <g id=\"patch_12\">\r\n    <path clip-path=\"url(#p9ba17591bd)\" d=\"M 117.467408 239.758125 \r\nL 122.356784 239.758125 \r\nL 122.356784 205.470609 \r\nL 117.467408 205.470609 \r\nz\r\n\" style=\"fill:#1f77b4;\"/>\r\n   </g>\r\n   <g id=\"patch_13\">\r\n    <path clip-path=\"url(#p9ba17591bd)\" d=\"M 123.579128 239.758125 \r\nL 128.468504 239.758125 \r\nL 128.468504 144.242901 \r\nL 123.579128 144.242901 \r\nz\r\n\" style=\"fill:#1f77b4;\"/>\r\n   </g>\r\n   <g id=\"patch_14\">\r\n    <path clip-path=\"url(#p9ba17591bd)\" d=\"M 129.690847 239.758125 \r\nL 134.580223 239.758125 \r\nL 134.580223 220.437382 \r\nL 129.690847 220.437382 \r\nz\r\n\" style=\"fill:#1f77b4;\"/>\r\n   </g>\r\n   <g id=\"patch_15\">\r\n    <path clip-path=\"url(#p9ba17591bd)\" d=\"M 135.802567 239.758125 \r\nL 140.691943 239.758125 \r\nL 140.691943 223.430736 \r\nL 135.802567 223.430736 \r\nz\r\n\" style=\"fill:#1f77b4;\"/>\r\n   </g>\r\n   <g id=\"patch_16\">\r\n    <path clip-path=\"url(#p9ba17591bd)\" d=\"M 141.914287 239.758125 \r\nL 146.803662 239.758125 \r\nL 146.803662 237.58114 \r\nL 141.914287 237.58114 \r\nz\r\n\" style=\"fill:#1f77b4;\"/>\r\n   </g>\r\n   <g id=\"patch_17\">\r\n    <path clip-path=\"url(#p9ba17591bd)\" d=\"M 148.026006 239.758125 \r\nL 152.915382 239.758125 \r\nL 152.915382 239.486002 \r\nL 148.026006 239.486002 \r\nz\r\n\" style=\"fill:#1f77b4;\"/>\r\n   </g>\r\n   <g id=\"patch_18\">\r\n    <path clip-path=\"url(#p9ba17591bd)\" d=\"M 154.137726 239.758125 \r\nL 159.027102 239.758125 \r\nL 159.027102 238.125386 \r\nL 154.137726 238.125386 \r\nz\r\n\" style=\"fill:#1f77b4;\"/>\r\n   </g>\r\n   <g id=\"patch_19\">\r\n    <path clip-path=\"url(#p9ba17591bd)\" d=\"M 160.249446 239.758125 \r\nL 165.138821 239.758125 \r\nL 165.138821 228.873199 \r\nL 160.249446 228.873199 \r\nz\r\n\" style=\"fill:#1f77b4;\"/>\r\n   </g>\r\n   <g id=\"patch_20\">\r\n    <path clip-path=\"url(#p9ba17591bd)\" d=\"M 166.361165 239.758125 \r\nL 171.250541 239.758125 \r\nL 171.250541 32.672411 \r\nL 166.361165 32.672411 \r\nz\r\n\" style=\"fill:#1f77b4;\"/>\r\n   </g>\r\n   <g id=\"patch_21\">\r\n    <path clip-path=\"url(#p9ba17591bd)\" d=\"M 172.472885 239.758125 \r\nL 177.36226 239.758125 \r\nL 177.36226 78.933346 \r\nL 172.472885 78.933346 \r\nz\r\n\" style=\"fill:#1f77b4;\"/>\r\n   </g>\r\n   <g id=\"patch_22\">\r\n    <path clip-path=\"url(#p9ba17591bd)\" d=\"M 178.584604 239.758125 \r\nL 183.47398 239.758125 \r\nL 183.47398 226.151968 \r\nL 178.584604 226.151968 \r\nz\r\n\" style=\"fill:#1f77b4;\"/>\r\n   </g>\r\n   <g id=\"patch_23\">\r\n    <path clip-path=\"url(#p9ba17591bd)\" d=\"M 184.696324 239.758125 \r\nL 189.5857 239.758125 \r\nL 189.5857 237.309017 \r\nL 184.696324 237.309017 \r\nz\r\n\" style=\"fill:#1f77b4;\"/>\r\n   </g>\r\n   <g id=\"patch_24\">\r\n    <path clip-path=\"url(#p9ba17591bd)\" d=\"M 190.808044 239.758125 \r\nL 195.697419 239.758125 \r\nL 195.697419 206.286978 \r\nL 190.808044 206.286978 \r\nz\r\n\" style=\"fill:#1f77b4;\"/>\r\n   </g>\r\n   <g id=\"patch_25\">\r\n    <path clip-path=\"url(#p9ba17591bd)\" d=\"M 196.919763 239.758125 \r\nL 201.809139 239.758125 \r\nL 201.809139 207.103347 \r\nL 196.919763 207.103347 \r\nz\r\n\" style=\"fill:#1f77b4;\"/>\r\n   </g>\r\n   <g id=\"patch_26\">\r\n    <path clip-path=\"url(#p9ba17591bd)\" d=\"M 203.031483 239.758125 \r\nL 207.920858 239.758125 \r\nL 207.920858 177.169801 \r\nL 203.031483 177.169801 \r\nz\r\n\" style=\"fill:#1f77b4;\"/>\r\n   </g>\r\n   <g id=\"patch_27\">\r\n    <path clip-path=\"url(#p9ba17591bd)\" d=\"M 209.143202 239.758125 \r\nL 214.032578 239.758125 \r\nL 214.032578 204.382116 \r\nL 209.143202 204.382116 \r\nz\r\n\" style=\"fill:#1f77b4;\"/>\r\n   </g>\r\n   <g id=\"patch_28\">\r\n    <path clip-path=\"url(#p9ba17591bd)\" d=\"M 215.254922 239.758125 \r\nL 220.144298 239.758125 \r\nL 220.144298 102.063813 \r\nL 215.254922 102.063813 \r\nz\r\n\" style=\"fill:#1f77b4;\"/>\r\n   </g>\r\n   <g id=\"patch_29\">\r\n    <path clip-path=\"url(#p9ba17591bd)\" d=\"M 221.366642 239.758125 \r\nL 226.256017 239.758125 \r\nL 226.256017 239.486002 \r\nL 221.366642 239.486002 \r\nz\r\n\" style=\"fill:#1f77b4;\"/>\r\n   </g>\r\n   <g id=\"patch_30\">\r\n    <path clip-path=\"url(#p9ba17591bd)\" d=\"M 227.478361 239.758125 \r\nL 232.367737 239.758125 \r\nL 232.367737 233.499293 \r\nL 227.478361 233.499293 \r\nz\r\n\" style=\"fill:#1f77b4;\"/>\r\n   </g>\r\n   <g id=\"patch_31\">\r\n    <path clip-path=\"url(#p9ba17591bd)\" d=\"M 233.590081 239.758125 \r\nL 238.479456 239.758125 \r\nL 238.479456 234.859908 \r\nL 233.590081 234.859908 \r\nz\r\n\" style=\"fill:#1f77b4;\"/>\r\n   </g>\r\n   <g id=\"patch_32\">\r\n    <path clip-path=\"url(#p9ba17591bd)\" d=\"M 239.7018 239.758125 \r\nL 244.591176 239.758125 \r\nL 244.591176 227.512583 \r\nL 239.7018 227.512583 \r\nz\r\n\" style=\"fill:#1f77b4;\"/>\r\n   </g>\r\n   <g id=\"patch_33\">\r\n    <path clip-path=\"url(#p9ba17591bd)\" d=\"M 245.81352 239.758125 \r\nL 250.702896 239.758125 \r\nL 250.702896 226.151968 \r\nL 245.81352 226.151968 \r\nz\r\n\" style=\"fill:#1f77b4;\"/>\r\n   </g>\r\n   <g id=\"patch_34\">\r\n    <path clip-path=\"url(#p9ba17591bd)\" d=\"M 251.92524 239.758125 \r\nL 256.814615 239.758125 \r\nL 256.814615 230.778061 \r\nL 251.92524 230.778061 \r\nz\r\n\" style=\"fill:#1f77b4;\"/>\r\n   </g>\r\n   <g id=\"patch_35\">\r\n    <path clip-path=\"url(#p9ba17591bd)\" d=\"M 258.036959 239.758125 \r\nL 262.926335 239.758125 \r\nL 262.926335 232.955046 \r\nL 258.036959 232.955046 \r\nz\r\n\" style=\"fill:#1f77b4;\"/>\r\n   </g>\r\n   <g id=\"patch_36\">\r\n    <path clip-path=\"url(#p9ba17591bd)\" d=\"M 264.148679 239.758125 \r\nL 269.038054 239.758125 \r\nL 269.038054 239.213879 \r\nL 264.148679 239.213879 \r\nz\r\n\" style=\"fill:#1f77b4;\"/>\r\n   </g>\r\n   <g id=\"patch_37\">\r\n    <path clip-path=\"url(#p9ba17591bd)\" d=\"M 270.260398 239.758125 \r\nL 275.149774 239.758125 \r\nL 275.149774 234.315662 \r\nL 270.260398 234.315662 \r\nz\r\n\" style=\"fill:#1f77b4;\"/>\r\n   </g>\r\n   <g id=\"patch_38\">\r\n    <path clip-path=\"url(#p9ba17591bd)\" d=\"M 276.372118 239.758125 \r\nL 281.261494 239.758125 \r\nL 281.261494 231.866554 \r\nL 276.372118 231.866554 \r\nz\r\n\" style=\"fill:#1f77b4;\"/>\r\n   </g>\r\n   <g id=\"patch_39\">\r\n    <path clip-path=\"url(#p9ba17591bd)\" d=\"M 282.483838 239.758125 \r\nL 287.373213 239.758125 \r\nL 287.373213 239.213879 \r\nL 282.483838 239.213879 \r\nz\r\n\" style=\"fill:#1f77b4;\"/>\r\n   </g>\r\n   <g id=\"patch_40\">\r\n    <path clip-path=\"url(#p9ba17591bd)\" d=\"M 288.595557 239.758125 \r\nL 293.484933 239.758125 \r\nL 293.484933 209.824579 \r\nL 288.595557 209.824579 \r\nz\r\n\" style=\"fill:#1f77b4;\"/>\r\n   </g>\r\n   <g id=\"patch_41\">\r\n    <path clip-path=\"url(#p9ba17591bd)\" d=\"M 294.707277 239.758125 \r\nL 299.596653 239.758125 \r\nL 299.596653 179.61891 \r\nL 294.707277 179.61891 \r\nz\r\n\" style=\"fill:#1f77b4;\"/>\r\n   </g>\r\n   <g id=\"patch_42\">\r\n    <path clip-path=\"url(#p9ba17591bd)\" d=\"M 300.818996 239.758125 \r\nL 305.708372 239.758125 \r\nL 305.708372 134.718591 \r\nL 300.818996 134.718591 \r\nz\r\n\" style=\"fill:#1f77b4;\"/>\r\n   </g>\r\n   <g id=\"patch_43\">\r\n    <path clip-path=\"url(#p9ba17591bd)\" d=\"M 306.930716 239.758125 \r\nL 311.820092 239.758125 \r\nL 311.820092 229.961692 \r\nL 306.930716 229.961692 \r\nz\r\n\" style=\"fill:#1f77b4;\"/>\r\n   </g>\r\n   <g id=\"patch_44\">\r\n    <path clip-path=\"url(#p9ba17591bd)\" d=\"M 313.042436 239.758125 \r\nL 317.931811 239.758125 \r\nL 317.931811 238.669632 \r\nL 313.042436 238.669632 \r\nz\r\n\" style=\"fill:#1f77b4;\"/>\r\n   </g>\r\n   <g id=\"patch_45\">\r\n    <path clip-path=\"url(#p9ba17591bd)\" d=\"M 319.154155 239.758125 \r\nL 324.043531 239.758125 \r\nL 324.043531 231.322307 \r\nL 319.154155 231.322307 \r\nz\r\n\" style=\"fill:#1f77b4;\"/>\r\n   </g>\r\n   <g id=\"patch_46\">\r\n    <path clip-path=\"url(#p9ba17591bd)\" d=\"M 325.265875 239.758125 \r\nL 330.155251 239.758125 \r\nL 330.155251 224.519229 \r\nL 325.265875 224.519229 \r\nz\r\n\" style=\"fill:#1f77b4;\"/>\r\n   </g>\r\n   <g id=\"patch_47\">\r\n    <path clip-path=\"url(#p9ba17591bd)\" d=\"M 331.377594 239.758125 \r\nL 336.26697 239.758125 \r\nL 336.26697 216.083411 \r\nL 331.377594 216.083411 \r\nz\r\n\" style=\"fill:#1f77b4;\"/>\r\n   </g>\r\n   <g id=\"patch_48\">\r\n    <path clip-path=\"url(#p9ba17591bd)\" d=\"M 337.489314 239.758125 \r\nL 342.37869 239.758125 \r\nL 342.37869 213.36218 \r\nL 337.489314 213.36218 \r\nz\r\n\" style=\"fill:#1f77b4;\"/>\r\n   </g>\r\n   <g id=\"patch_49\">\r\n    <path clip-path=\"url(#p9ba17591bd)\" d=\"M 343.601034 239.758125 \r\nL 348.490409 239.758125 \r\nL 348.490409 239.486002 \r\nL 343.601034 239.486002 \r\nz\r\n\" style=\"fill:#1f77b4;\"/>\r\n   </g>\r\n   <g id=\"patch_50\">\r\n    <path clip-path=\"url(#p9ba17591bd)\" d=\"M 349.712753 239.758125 \r\nL 354.602129 239.758125 \r\nL 354.602129 238.125386 \r\nL 349.712753 238.125386 \r\nz\r\n\" style=\"fill:#1f77b4;\"/>\r\n   </g>\r\n   <g id=\"patch_51\">\r\n    <path clip-path=\"url(#p9ba17591bd)\" d=\"M 355.824473 239.758125 \r\nL 360.713849 239.758125 \r\nL 360.713849 234.859908 \r\nL 355.824473 234.859908 \r\nz\r\n\" style=\"fill:#1f77b4;\"/>\r\n   </g>\r\n   <g id=\"patch_52\">\r\n    <path clip-path=\"url(#p9ba17591bd)\" d=\"M 361.936192 239.758125 \r\nL 366.825568 239.758125 \r\nL 366.825568 237.58114 \r\nL 361.936192 237.58114 \r\nz\r\n\" style=\"fill:#1f77b4;\"/>\r\n   </g>\r\n   <g id=\"matplotlib.axis_1\">\r\n    <g id=\"xtick_1\">\r\n     <g id=\"line2d_1\">\r\n      <defs>\r\n       <path d=\"M 0 0 \r\nL 0 3.5 \r\n\" id=\"m763de7db29\" style=\"stroke:#000000;stroke-width:0.8;\"/>\r\n      </defs>\r\n      <g>\r\n       <use style=\"stroke:#000000;stroke-width:0.8;\" x=\"64.90662\" xlink:href=\"#m763de7db29\" y=\"239.758125\"/>\r\n      </g>\r\n     </g>\r\n     <g id=\"text_1\">\r\n      <!-- 0 -->\r\n      <g transform=\"translate(61.72537 254.356563)scale(0.1 -0.1)\">\r\n       <defs>\r\n        <path d=\"M 31.78125 66.40625 \r\nQ 24.171875 66.40625 20.328125 58.90625 \r\nQ 16.5 51.421875 16.5 36.375 \r\nQ 16.5 21.390625 20.328125 13.890625 \r\nQ 24.171875 6.390625 31.78125 6.390625 \r\nQ 39.453125 6.390625 43.28125 13.890625 \r\nQ 47.125 21.390625 47.125 36.375 \r\nQ 47.125 51.421875 43.28125 58.90625 \r\nQ 39.453125 66.40625 31.78125 66.40625 \r\nz\r\nM 31.78125 74.21875 \r\nQ 44.046875 74.21875 50.515625 64.515625 \r\nQ 56.984375 54.828125 56.984375 36.375 \r\nQ 56.984375 17.96875 50.515625 8.265625 \r\nQ 44.046875 -1.421875 31.78125 -1.421875 \r\nQ 19.53125 -1.421875 13.0625 8.265625 \r\nQ 6.59375 17.96875 6.59375 36.375 \r\nQ 6.59375 54.828125 13.0625 64.515625 \r\nQ 19.53125 74.21875 31.78125 74.21875 \r\nz\r\n\" id=\"DejaVuSans-48\"/>\r\n       </defs>\r\n       <use xlink:href=\"#DejaVuSans-48\"/>\r\n      </g>\r\n     </g>\r\n    </g>\r\n    <g id=\"xtick_2\">\r\n     <g id=\"line2d_2\">\r\n      <g>\r\n       <use style=\"stroke:#000000;stroke-width:0.8;\" x=\"126.023816\" xlink:href=\"#m763de7db29\" y=\"239.758125\"/>\r\n      </g>\r\n     </g>\r\n     <g id=\"text_2\">\r\n      <!-- 10 -->\r\n      <g transform=\"translate(119.661316 254.356563)scale(0.1 -0.1)\">\r\n       <defs>\r\n        <path d=\"M 12.40625 8.296875 \r\nL 28.515625 8.296875 \r\nL 28.515625 63.921875 \r\nL 10.984375 60.40625 \r\nL 10.984375 69.390625 \r\nL 28.421875 72.90625 \r\nL 38.28125 72.90625 \r\nL 38.28125 8.296875 \r\nL 54.390625 8.296875 \r\nL 54.390625 0 \r\nL 12.40625 0 \r\nz\r\n\" id=\"DejaVuSans-49\"/>\r\n       </defs>\r\n       <use xlink:href=\"#DejaVuSans-49\"/>\r\n       <use x=\"63.623047\" xlink:href=\"#DejaVuSans-48\"/>\r\n      </g>\r\n     </g>\r\n    </g>\r\n    <g id=\"xtick_3\">\r\n     <g id=\"line2d_3\">\r\n      <g>\r\n       <use style=\"stroke:#000000;stroke-width:0.8;\" x=\"187.141012\" xlink:href=\"#m763de7db29\" y=\"239.758125\"/>\r\n      </g>\r\n     </g>\r\n     <g id=\"text_3\">\r\n      <!-- 20 -->\r\n      <g transform=\"translate(180.778512 254.356563)scale(0.1 -0.1)\">\r\n       <defs>\r\n        <path d=\"M 19.1875 8.296875 \r\nL 53.609375 8.296875 \r\nL 53.609375 0 \r\nL 7.328125 0 \r\nL 7.328125 8.296875 \r\nQ 12.9375 14.109375 22.625 23.890625 \r\nQ 32.328125 33.6875 34.8125 36.53125 \r\nQ 39.546875 41.84375 41.421875 45.53125 \r\nQ 43.3125 49.21875 43.3125 52.78125 \r\nQ 43.3125 58.59375 39.234375 62.25 \r\nQ 35.15625 65.921875 28.609375 65.921875 \r\nQ 23.96875 65.921875 18.8125 64.3125 \r\nQ 13.671875 62.703125 7.8125 59.421875 \r\nL 7.8125 69.390625 \r\nQ 13.765625 71.78125 18.9375 73 \r\nQ 24.125 74.21875 28.421875 74.21875 \r\nQ 39.75 74.21875 46.484375 68.546875 \r\nQ 53.21875 62.890625 53.21875 53.421875 \r\nQ 53.21875 48.921875 51.53125 44.890625 \r\nQ 49.859375 40.875 45.40625 35.40625 \r\nQ 44.1875 33.984375 37.640625 27.21875 \r\nQ 31.109375 20.453125 19.1875 8.296875 \r\nz\r\n\" id=\"DejaVuSans-50\"/>\r\n       </defs>\r\n       <use xlink:href=\"#DejaVuSans-50\"/>\r\n       <use x=\"63.623047\" xlink:href=\"#DejaVuSans-48\"/>\r\n      </g>\r\n     </g>\r\n    </g>\r\n    <g id=\"xtick_4\">\r\n     <g id=\"line2d_4\">\r\n      <g>\r\n       <use style=\"stroke:#000000;stroke-width:0.8;\" x=\"248.258208\" xlink:href=\"#m763de7db29\" y=\"239.758125\"/>\r\n      </g>\r\n     </g>\r\n     <g id=\"text_4\">\r\n      <!-- 30 -->\r\n      <g transform=\"translate(241.895708 254.356563)scale(0.1 -0.1)\">\r\n       <defs>\r\n        <path d=\"M 40.578125 39.3125 \r\nQ 47.65625 37.796875 51.625 33 \r\nQ 55.609375 28.21875 55.609375 21.1875 \r\nQ 55.609375 10.40625 48.1875 4.484375 \r\nQ 40.765625 -1.421875 27.09375 -1.421875 \r\nQ 22.515625 -1.421875 17.65625 -0.515625 \r\nQ 12.796875 0.390625 7.625 2.203125 \r\nL 7.625 11.71875 \r\nQ 11.71875 9.328125 16.59375 8.109375 \r\nQ 21.484375 6.890625 26.8125 6.890625 \r\nQ 36.078125 6.890625 40.9375 10.546875 \r\nQ 45.796875 14.203125 45.796875 21.1875 \r\nQ 45.796875 27.640625 41.28125 31.265625 \r\nQ 36.765625 34.90625 28.71875 34.90625 \r\nL 20.21875 34.90625 \r\nL 20.21875 43.015625 \r\nL 29.109375 43.015625 \r\nQ 36.375 43.015625 40.234375 45.921875 \r\nQ 44.09375 48.828125 44.09375 54.296875 \r\nQ 44.09375 59.90625 40.109375 62.90625 \r\nQ 36.140625 65.921875 28.71875 65.921875 \r\nQ 24.65625 65.921875 20.015625 65.03125 \r\nQ 15.375 64.15625 9.8125 62.3125 \r\nL 9.8125 71.09375 \r\nQ 15.4375 72.65625 20.34375 73.4375 \r\nQ 25.25 74.21875 29.59375 74.21875 \r\nQ 40.828125 74.21875 47.359375 69.109375 \r\nQ 53.90625 64.015625 53.90625 55.328125 \r\nQ 53.90625 49.265625 50.4375 45.09375 \r\nQ 46.96875 40.921875 40.578125 39.3125 \r\nz\r\n\" id=\"DejaVuSans-51\"/>\r\n       </defs>\r\n       <use xlink:href=\"#DejaVuSans-51\"/>\r\n       <use x=\"63.623047\" xlink:href=\"#DejaVuSans-48\"/>\r\n      </g>\r\n     </g>\r\n    </g>\r\n    <g id=\"xtick_5\">\r\n     <g id=\"line2d_5\">\r\n      <g>\r\n       <use style=\"stroke:#000000;stroke-width:0.8;\" x=\"309.375404\" xlink:href=\"#m763de7db29\" y=\"239.758125\"/>\r\n      </g>\r\n     </g>\r\n     <g id=\"text_5\">\r\n      <!-- 40 -->\r\n      <g transform=\"translate(303.012904 254.356563)scale(0.1 -0.1)\">\r\n       <defs>\r\n        <path d=\"M 37.796875 64.3125 \r\nL 12.890625 25.390625 \r\nL 37.796875 25.390625 \r\nz\r\nM 35.203125 72.90625 \r\nL 47.609375 72.90625 \r\nL 47.609375 25.390625 \r\nL 58.015625 25.390625 \r\nL 58.015625 17.1875 \r\nL 47.609375 17.1875 \r\nL 47.609375 0 \r\nL 37.796875 0 \r\nL 37.796875 17.1875 \r\nL 4.890625 17.1875 \r\nL 4.890625 26.703125 \r\nz\r\n\" id=\"DejaVuSans-52\"/>\r\n       </defs>\r\n       <use xlink:href=\"#DejaVuSans-52\"/>\r\n       <use x=\"63.623047\" xlink:href=\"#DejaVuSans-48\"/>\r\n      </g>\r\n     </g>\r\n    </g>\r\n    <g id=\"xtick_6\">\r\n     <g id=\"line2d_6\">\r\n      <g>\r\n       <use style=\"stroke:#000000;stroke-width:0.8;\" x=\"370.4926\" xlink:href=\"#m763de7db29\" y=\"239.758125\"/>\r\n      </g>\r\n     </g>\r\n     <g id=\"text_6\">\r\n      <!-- 50 -->\r\n      <g transform=\"translate(364.1301 254.356563)scale(0.1 -0.1)\">\r\n       <defs>\r\n        <path d=\"M 10.796875 72.90625 \r\nL 49.515625 72.90625 \r\nL 49.515625 64.59375 \r\nL 19.828125 64.59375 \r\nL 19.828125 46.734375 \r\nQ 21.96875 47.46875 24.109375 47.828125 \r\nQ 26.265625 48.1875 28.421875 48.1875 \r\nQ 40.625 48.1875 47.75 41.5 \r\nQ 54.890625 34.8125 54.890625 23.390625 \r\nQ 54.890625 11.625 47.5625 5.09375 \r\nQ 40.234375 -1.421875 26.90625 -1.421875 \r\nQ 22.3125 -1.421875 17.546875 -0.640625 \r\nQ 12.796875 0.140625 7.71875 1.703125 \r\nL 7.71875 11.625 \r\nQ 12.109375 9.234375 16.796875 8.0625 \r\nQ 21.484375 6.890625 26.703125 6.890625 \r\nQ 35.15625 6.890625 40.078125 11.328125 \r\nQ 45.015625 15.765625 45.015625 23.390625 \r\nQ 45.015625 31 40.078125 35.4375 \r\nQ 35.15625 39.890625 26.703125 39.890625 \r\nQ 22.75 39.890625 18.8125 39.015625 \r\nQ 14.890625 38.140625 10.796875 36.28125 \r\nz\r\n\" id=\"DejaVuSans-53\"/>\r\n       </defs>\r\n       <use xlink:href=\"#DejaVuSans-53\"/>\r\n       <use x=\"63.623047\" xlink:href=\"#DejaVuSans-48\"/>\r\n      </g>\r\n     </g>\r\n    </g>\r\n   </g>\r\n   <g id=\"matplotlib.axis_2\">\r\n    <g id=\"ytick_1\">\r\n     <g id=\"line2d_7\">\r\n      <defs>\r\n       <path d=\"M 0 0 \r\nL -3.5 0 \r\n\" id=\"mb55a9dbe4a\" style=\"stroke:#000000;stroke-width:0.8;\"/>\r\n      </defs>\r\n      <g>\r\n       <use style=\"stroke:#000000;stroke-width:0.8;\" x=\"47.24375\" xlink:href=\"#mb55a9dbe4a\" y=\"239.758125\"/>\r\n      </g>\r\n     </g>\r\n     <g id=\"text_7\">\r\n      <!-- 0 -->\r\n      <g transform=\"translate(33.88125 243.557344)scale(0.1 -0.1)\">\r\n       <use xlink:href=\"#DejaVuSans-48\"/>\r\n      </g>\r\n     </g>\r\n    </g>\r\n    <g id=\"ytick_2\">\r\n     <g id=\"line2d_8\">\r\n      <g>\r\n       <use style=\"stroke:#000000;stroke-width:0.8;\" x=\"47.24375\" xlink:href=\"#mb55a9dbe4a\" y=\"212.54581\"/>\r\n      </g>\r\n     </g>\r\n     <g id=\"text_8\">\r\n      <!-- 100 -->\r\n      <g transform=\"translate(21.15625 216.345029)scale(0.1 -0.1)\">\r\n       <use xlink:href=\"#DejaVuSans-49\"/>\r\n       <use x=\"63.623047\" xlink:href=\"#DejaVuSans-48\"/>\r\n       <use x=\"127.246094\" xlink:href=\"#DejaVuSans-48\"/>\r\n      </g>\r\n     </g>\r\n    </g>\r\n    <g id=\"ytick_3\">\r\n     <g id=\"line2d_9\">\r\n      <g>\r\n       <use style=\"stroke:#000000;stroke-width:0.8;\" x=\"47.24375\" xlink:href=\"#mb55a9dbe4a\" y=\"185.333496\"/>\r\n      </g>\r\n     </g>\r\n     <g id=\"text_9\">\r\n      <!-- 200 -->\r\n      <g transform=\"translate(21.15625 189.132715)scale(0.1 -0.1)\">\r\n       <use xlink:href=\"#DejaVuSans-50\"/>\r\n       <use x=\"63.623047\" xlink:href=\"#DejaVuSans-48\"/>\r\n       <use x=\"127.246094\" xlink:href=\"#DejaVuSans-48\"/>\r\n      </g>\r\n     </g>\r\n    </g>\r\n    <g id=\"ytick_4\">\r\n     <g id=\"line2d_10\">\r\n      <g>\r\n       <use style=\"stroke:#000000;stroke-width:0.8;\" x=\"47.24375\" xlink:href=\"#mb55a9dbe4a\" y=\"158.121181\"/>\r\n      </g>\r\n     </g>\r\n     <g id=\"text_10\">\r\n      <!-- 300 -->\r\n      <g transform=\"translate(21.15625 161.9204)scale(0.1 -0.1)\">\r\n       <use xlink:href=\"#DejaVuSans-51\"/>\r\n       <use x=\"63.623047\" xlink:href=\"#DejaVuSans-48\"/>\r\n       <use x=\"127.246094\" xlink:href=\"#DejaVuSans-48\"/>\r\n      </g>\r\n     </g>\r\n    </g>\r\n    <g id=\"ytick_5\">\r\n     <g id=\"line2d_11\">\r\n      <g>\r\n       <use style=\"stroke:#000000;stroke-width:0.8;\" x=\"47.24375\" xlink:href=\"#mb55a9dbe4a\" y=\"130.908867\"/>\r\n      </g>\r\n     </g>\r\n     <g id=\"text_11\">\r\n      <!-- 400 -->\r\n      <g transform=\"translate(21.15625 134.708085)scale(0.1 -0.1)\">\r\n       <use xlink:href=\"#DejaVuSans-52\"/>\r\n       <use x=\"63.623047\" xlink:href=\"#DejaVuSans-48\"/>\r\n       <use x=\"127.246094\" xlink:href=\"#DejaVuSans-48\"/>\r\n      </g>\r\n     </g>\r\n    </g>\r\n    <g id=\"ytick_6\">\r\n     <g id=\"line2d_12\">\r\n      <g>\r\n       <use style=\"stroke:#000000;stroke-width:0.8;\" x=\"47.24375\" xlink:href=\"#mb55a9dbe4a\" y=\"103.696552\"/>\r\n      </g>\r\n     </g>\r\n     <g id=\"text_12\">\r\n      <!-- 500 -->\r\n      <g transform=\"translate(21.15625 107.495771)scale(0.1 -0.1)\">\r\n       <use xlink:href=\"#DejaVuSans-53\"/>\r\n       <use x=\"63.623047\" xlink:href=\"#DejaVuSans-48\"/>\r\n       <use x=\"127.246094\" xlink:href=\"#DejaVuSans-48\"/>\r\n      </g>\r\n     </g>\r\n    </g>\r\n    <g id=\"ytick_7\">\r\n     <g id=\"line2d_13\">\r\n      <g>\r\n       <use style=\"stroke:#000000;stroke-width:0.8;\" x=\"47.24375\" xlink:href=\"#mb55a9dbe4a\" y=\"76.484237\"/>\r\n      </g>\r\n     </g>\r\n     <g id=\"text_13\">\r\n      <!-- 600 -->\r\n      <g transform=\"translate(21.15625 80.283456)scale(0.1 -0.1)\">\r\n       <defs>\r\n        <path d=\"M 33.015625 40.375 \r\nQ 26.375 40.375 22.484375 35.828125 \r\nQ 18.609375 31.296875 18.609375 23.390625 \r\nQ 18.609375 15.53125 22.484375 10.953125 \r\nQ 26.375 6.390625 33.015625 6.390625 \r\nQ 39.65625 6.390625 43.53125 10.953125 \r\nQ 47.40625 15.53125 47.40625 23.390625 \r\nQ 47.40625 31.296875 43.53125 35.828125 \r\nQ 39.65625 40.375 33.015625 40.375 \r\nz\r\nM 52.59375 71.296875 \r\nL 52.59375 62.3125 \r\nQ 48.875 64.0625 45.09375 64.984375 \r\nQ 41.3125 65.921875 37.59375 65.921875 \r\nQ 27.828125 65.921875 22.671875 59.328125 \r\nQ 17.53125 52.734375 16.796875 39.40625 \r\nQ 19.671875 43.65625 24.015625 45.921875 \r\nQ 28.375 48.1875 33.59375 48.1875 \r\nQ 44.578125 48.1875 50.953125 41.515625 \r\nQ 57.328125 34.859375 57.328125 23.390625 \r\nQ 57.328125 12.15625 50.6875 5.359375 \r\nQ 44.046875 -1.421875 33.015625 -1.421875 \r\nQ 20.359375 -1.421875 13.671875 8.265625 \r\nQ 6.984375 17.96875 6.984375 36.375 \r\nQ 6.984375 53.65625 15.1875 63.9375 \r\nQ 23.390625 74.21875 37.203125 74.21875 \r\nQ 40.921875 74.21875 44.703125 73.484375 \r\nQ 48.484375 72.75 52.59375 71.296875 \r\nz\r\n\" id=\"DejaVuSans-54\"/>\r\n       </defs>\r\n       <use xlink:href=\"#DejaVuSans-54\"/>\r\n       <use x=\"63.623047\" xlink:href=\"#DejaVuSans-48\"/>\r\n       <use x=\"127.246094\" xlink:href=\"#DejaVuSans-48\"/>\r\n      </g>\r\n     </g>\r\n    </g>\r\n    <g id=\"ytick_8\">\r\n     <g id=\"line2d_14\">\r\n      <g>\r\n       <use style=\"stroke:#000000;stroke-width:0.8;\" x=\"47.24375\" xlink:href=\"#mb55a9dbe4a\" y=\"49.271923\"/>\r\n      </g>\r\n     </g>\r\n     <g id=\"text_14\">\r\n      <!-- 700 -->\r\n      <g transform=\"translate(21.15625 53.071141)scale(0.1 -0.1)\">\r\n       <defs>\r\n        <path d=\"M 8.203125 72.90625 \r\nL 55.078125 72.90625 \r\nL 55.078125 68.703125 \r\nL 28.609375 0 \r\nL 18.3125 0 \r\nL 43.21875 64.59375 \r\nL 8.203125 64.59375 \r\nz\r\n\" id=\"DejaVuSans-55\"/>\r\n       </defs>\r\n       <use xlink:href=\"#DejaVuSans-55\"/>\r\n       <use x=\"63.623047\" xlink:href=\"#DejaVuSans-48\"/>\r\n       <use x=\"127.246094\" xlink:href=\"#DejaVuSans-48\"/>\r\n      </g>\r\n     </g>\r\n    </g>\r\n    <g id=\"text_15\">\r\n     <!-- ordered_item_count -->\r\n     <g transform=\"translate(14.798438 180.912344)rotate(-90)scale(0.1 -0.1)\">\r\n      <defs>\r\n       <path d=\"M 30.609375 48.390625 \r\nQ 23.390625 48.390625 19.1875 42.75 \r\nQ 14.984375 37.109375 14.984375 27.296875 \r\nQ 14.984375 17.484375 19.15625 11.84375 \r\nQ 23.34375 6.203125 30.609375 6.203125 \r\nQ 37.796875 6.203125 41.984375 11.859375 \r\nQ 46.1875 17.53125 46.1875 27.296875 \r\nQ 46.1875 37.015625 41.984375 42.703125 \r\nQ 37.796875 48.390625 30.609375 48.390625 \r\nz\r\nM 30.609375 56 \r\nQ 42.328125 56 49.015625 48.375 \r\nQ 55.71875 40.765625 55.71875 27.296875 \r\nQ 55.71875 13.875 49.015625 6.21875 \r\nQ 42.328125 -1.421875 30.609375 -1.421875 \r\nQ 18.84375 -1.421875 12.171875 6.21875 \r\nQ 5.515625 13.875 5.515625 27.296875 \r\nQ 5.515625 40.765625 12.171875 48.375 \r\nQ 18.84375 56 30.609375 56 \r\nz\r\n\" id=\"DejaVuSans-111\"/>\r\n       <path d=\"M 41.109375 46.296875 \r\nQ 39.59375 47.171875 37.8125 47.578125 \r\nQ 36.03125 48 33.890625 48 \r\nQ 26.265625 48 22.1875 43.046875 \r\nQ 18.109375 38.09375 18.109375 28.8125 \r\nL 18.109375 0 \r\nL 9.078125 0 \r\nL 9.078125 54.6875 \r\nL 18.109375 54.6875 \r\nL 18.109375 46.1875 \r\nQ 20.953125 51.171875 25.484375 53.578125 \r\nQ 30.03125 56 36.53125 56 \r\nQ 37.453125 56 38.578125 55.875 \r\nQ 39.703125 55.765625 41.0625 55.515625 \r\nz\r\n\" id=\"DejaVuSans-114\"/>\r\n       <path d=\"M 45.40625 46.390625 \r\nL 45.40625 75.984375 \r\nL 54.390625 75.984375 \r\nL 54.390625 0 \r\nL 45.40625 0 \r\nL 45.40625 8.203125 \r\nQ 42.578125 3.328125 38.25 0.953125 \r\nQ 33.9375 -1.421875 27.875 -1.421875 \r\nQ 17.96875 -1.421875 11.734375 6.484375 \r\nQ 5.515625 14.40625 5.515625 27.296875 \r\nQ 5.515625 40.1875 11.734375 48.09375 \r\nQ 17.96875 56 27.875 56 \r\nQ 33.9375 56 38.25 53.625 \r\nQ 42.578125 51.265625 45.40625 46.390625 \r\nz\r\nM 14.796875 27.296875 \r\nQ 14.796875 17.390625 18.875 11.75 \r\nQ 22.953125 6.109375 30.078125 6.109375 \r\nQ 37.203125 6.109375 41.296875 11.75 \r\nQ 45.40625 17.390625 45.40625 27.296875 \r\nQ 45.40625 37.203125 41.296875 42.84375 \r\nQ 37.203125 48.484375 30.078125 48.484375 \r\nQ 22.953125 48.484375 18.875 42.84375 \r\nQ 14.796875 37.203125 14.796875 27.296875 \r\nz\r\n\" id=\"DejaVuSans-100\"/>\r\n       <path d=\"M 56.203125 29.59375 \r\nL 56.203125 25.203125 \r\nL 14.890625 25.203125 \r\nQ 15.484375 15.921875 20.484375 11.0625 \r\nQ 25.484375 6.203125 34.421875 6.203125 \r\nQ 39.59375 6.203125 44.453125 7.46875 \r\nQ 49.3125 8.734375 54.109375 11.28125 \r\nL 54.109375 2.78125 \r\nQ 49.265625 0.734375 44.1875 -0.34375 \r\nQ 39.109375 -1.421875 33.890625 -1.421875 \r\nQ 20.796875 -1.421875 13.15625 6.1875 \r\nQ 5.515625 13.8125 5.515625 26.8125 \r\nQ 5.515625 40.234375 12.765625 48.109375 \r\nQ 20.015625 56 32.328125 56 \r\nQ 43.359375 56 49.78125 48.890625 \r\nQ 56.203125 41.796875 56.203125 29.59375 \r\nz\r\nM 47.21875 32.234375 \r\nQ 47.125 39.59375 43.09375 43.984375 \r\nQ 39.0625 48.390625 32.421875 48.390625 \r\nQ 24.90625 48.390625 20.390625 44.140625 \r\nQ 15.875 39.890625 15.1875 32.171875 \r\nz\r\n\" id=\"DejaVuSans-101\"/>\r\n       <path d=\"M 50.984375 -16.609375 \r\nL 50.984375 -23.578125 \r\nL -0.984375 -23.578125 \r\nL -0.984375 -16.609375 \r\nz\r\n\" id=\"DejaVuSans-95\"/>\r\n       <path d=\"M 9.421875 54.6875 \r\nL 18.40625 54.6875 \r\nL 18.40625 0 \r\nL 9.421875 0 \r\nz\r\nM 9.421875 75.984375 \r\nL 18.40625 75.984375 \r\nL 18.40625 64.59375 \r\nL 9.421875 64.59375 \r\nz\r\n\" id=\"DejaVuSans-105\"/>\r\n       <path d=\"M 18.3125 70.21875 \r\nL 18.3125 54.6875 \r\nL 36.8125 54.6875 \r\nL 36.8125 47.703125 \r\nL 18.3125 47.703125 \r\nL 18.3125 18.015625 \r\nQ 18.3125 11.328125 20.140625 9.421875 \r\nQ 21.96875 7.515625 27.59375 7.515625 \r\nL 36.8125 7.515625 \r\nL 36.8125 0 \r\nL 27.59375 0 \r\nQ 17.1875 0 13.234375 3.875 \r\nQ 9.28125 7.765625 9.28125 18.015625 \r\nL 9.28125 47.703125 \r\nL 2.6875 47.703125 \r\nL 2.6875 54.6875 \r\nL 9.28125 54.6875 \r\nL 9.28125 70.21875 \r\nz\r\n\" id=\"DejaVuSans-116\"/>\r\n       <path d=\"M 52 44.1875 \r\nQ 55.375 50.25 60.0625 53.125 \r\nQ 64.75 56 71.09375 56 \r\nQ 79.640625 56 84.28125 50.015625 \r\nQ 88.921875 44.046875 88.921875 33.015625 \r\nL 88.921875 0 \r\nL 79.890625 0 \r\nL 79.890625 32.71875 \r\nQ 79.890625 40.578125 77.09375 44.375 \r\nQ 74.3125 48.1875 68.609375 48.1875 \r\nQ 61.625 48.1875 57.5625 43.546875 \r\nQ 53.515625 38.921875 53.515625 30.90625 \r\nL 53.515625 0 \r\nL 44.484375 0 \r\nL 44.484375 32.71875 \r\nQ 44.484375 40.625 41.703125 44.40625 \r\nQ 38.921875 48.1875 33.109375 48.1875 \r\nQ 26.21875 48.1875 22.15625 43.53125 \r\nQ 18.109375 38.875 18.109375 30.90625 \r\nL 18.109375 0 \r\nL 9.078125 0 \r\nL 9.078125 54.6875 \r\nL 18.109375 54.6875 \r\nL 18.109375 46.1875 \r\nQ 21.1875 51.21875 25.484375 53.609375 \r\nQ 29.78125 56 35.6875 56 \r\nQ 41.65625 56 45.828125 52.96875 \r\nQ 50 49.953125 52 44.1875 \r\nz\r\n\" id=\"DejaVuSans-109\"/>\r\n       <path d=\"M 48.78125 52.59375 \r\nL 48.78125 44.1875 \r\nQ 44.96875 46.296875 41.140625 47.34375 \r\nQ 37.3125 48.390625 33.40625 48.390625 \r\nQ 24.65625 48.390625 19.8125 42.84375 \r\nQ 14.984375 37.3125 14.984375 27.296875 \r\nQ 14.984375 17.28125 19.8125 11.734375 \r\nQ 24.65625 6.203125 33.40625 6.203125 \r\nQ 37.3125 6.203125 41.140625 7.25 \r\nQ 44.96875 8.296875 48.78125 10.40625 \r\nL 48.78125 2.09375 \r\nQ 45.015625 0.34375 40.984375 -0.53125 \r\nQ 36.96875 -1.421875 32.421875 -1.421875 \r\nQ 20.0625 -1.421875 12.78125 6.34375 \r\nQ 5.515625 14.109375 5.515625 27.296875 \r\nQ 5.515625 40.671875 12.859375 48.328125 \r\nQ 20.21875 56 33.015625 56 \r\nQ 37.15625 56 41.109375 55.140625 \r\nQ 45.0625 54.296875 48.78125 52.59375 \r\nz\r\n\" id=\"DejaVuSans-99\"/>\r\n       <path d=\"M 8.5 21.578125 \r\nL 8.5 54.6875 \r\nL 17.484375 54.6875 \r\nL 17.484375 21.921875 \r\nQ 17.484375 14.15625 20.5 10.265625 \r\nQ 23.53125 6.390625 29.59375 6.390625 \r\nQ 36.859375 6.390625 41.078125 11.03125 \r\nQ 45.3125 15.671875 45.3125 23.6875 \r\nL 45.3125 54.6875 \r\nL 54.296875 54.6875 \r\nL 54.296875 0 \r\nL 45.3125 0 \r\nL 45.3125 8.40625 \r\nQ 42.046875 3.421875 37.71875 1 \r\nQ 33.40625 -1.421875 27.6875 -1.421875 \r\nQ 18.265625 -1.421875 13.375 4.4375 \r\nQ 8.5 10.296875 8.5 21.578125 \r\nz\r\nM 31.109375 56 \r\nz\r\n\" id=\"DejaVuSans-117\"/>\r\n       <path d=\"M 54.890625 33.015625 \r\nL 54.890625 0 \r\nL 45.90625 0 \r\nL 45.90625 32.71875 \r\nQ 45.90625 40.484375 42.875 44.328125 \r\nQ 39.84375 48.1875 33.796875 48.1875 \r\nQ 26.515625 48.1875 22.3125 43.546875 \r\nQ 18.109375 38.921875 18.109375 30.90625 \r\nL 18.109375 0 \r\nL 9.078125 0 \r\nL 9.078125 54.6875 \r\nL 18.109375 54.6875 \r\nL 18.109375 46.1875 \r\nQ 21.34375 51.125 25.703125 53.5625 \r\nQ 30.078125 56 35.796875 56 \r\nQ 45.21875 56 50.046875 50.171875 \r\nQ 54.890625 44.34375 54.890625 33.015625 \r\nz\r\n\" id=\"DejaVuSans-110\"/>\r\n      </defs>\r\n      <use xlink:href=\"#DejaVuSans-111\"/>\r\n      <use x=\"61.181641\" xlink:href=\"#DejaVuSans-114\"/>\r\n      <use x=\"100.544922\" xlink:href=\"#DejaVuSans-100\"/>\r\n      <use x=\"164.021484\" xlink:href=\"#DejaVuSans-101\"/>\r\n      <use x=\"225.544922\" xlink:href=\"#DejaVuSans-114\"/>\r\n      <use x=\"264.408203\" xlink:href=\"#DejaVuSans-101\"/>\r\n      <use x=\"325.931641\" xlink:href=\"#DejaVuSans-100\"/>\r\n      <use x=\"389.408203\" xlink:href=\"#DejaVuSans-95\"/>\r\n      <use x=\"439.408203\" xlink:href=\"#DejaVuSans-105\"/>\r\n      <use x=\"467.191406\" xlink:href=\"#DejaVuSans-116\"/>\r\n      <use x=\"506.400391\" xlink:href=\"#DejaVuSans-101\"/>\r\n      <use x=\"567.923828\" xlink:href=\"#DejaVuSans-109\"/>\r\n      <use x=\"665.335938\" xlink:href=\"#DejaVuSans-95\"/>\r\n      <use x=\"715.335938\" xlink:href=\"#DejaVuSans-99\"/>\r\n      <use x=\"770.316406\" xlink:href=\"#DejaVuSans-111\"/>\r\n      <use x=\"831.498047\" xlink:href=\"#DejaVuSans-117\"/>\r\n      <use x=\"894.876953\" xlink:href=\"#DejaVuSans-110\"/>\r\n      <use x=\"958.255859\" xlink:href=\"#DejaVuSans-116\"/>\r\n     </g>\r\n    </g>\r\n   </g>\r\n   <g id=\"patch_53\">\r\n    <path d=\"M 47.24375 239.758125 \r\nL 47.24375 22.318125 \r\n\" style=\"fill:none;stroke:#000000;stroke-linecap:square;stroke-linejoin:miter;stroke-width:0.8;\"/>\r\n   </g>\r\n   <g id=\"patch_54\">\r\n    <path d=\"M 382.04375 239.758125 \r\nL 382.04375 22.318125 \r\n\" style=\"fill:none;stroke:#000000;stroke-linecap:square;stroke-linejoin:miter;stroke-width:0.8;\"/>\r\n   </g>\r\n   <g id=\"patch_55\">\r\n    <path d=\"M 47.24375 239.758125 \r\nL 382.04375 239.758125 \r\n\" style=\"fill:none;stroke:#000000;stroke-linecap:square;stroke-linejoin:miter;stroke-width:0.8;\"/>\r\n   </g>\r\n   <g id=\"patch_56\">\r\n    <path d=\"M 47.24375 22.318125 \r\nL 382.04375 22.318125 \r\n\" style=\"fill:none;stroke:#000000;stroke-linecap:square;stroke-linejoin:miter;stroke-width:0.8;\"/>\r\n   </g>\r\n   <g id=\"text_16\">\r\n    <!-- Distribution of all orderd item -->\r\n    <g transform=\"translate(125.96 16.318125)scale(0.12 -0.12)\">\r\n     <defs>\r\n      <path d=\"M 19.671875 64.796875 \r\nL 19.671875 8.109375 \r\nL 31.59375 8.109375 \r\nQ 46.6875 8.109375 53.6875 14.9375 \r\nQ 60.6875 21.78125 60.6875 36.53125 \r\nQ 60.6875 51.171875 53.6875 57.984375 \r\nQ 46.6875 64.796875 31.59375 64.796875 \r\nz\r\nM 9.8125 72.90625 \r\nL 30.078125 72.90625 \r\nQ 51.265625 72.90625 61.171875 64.09375 \r\nQ 71.09375 55.28125 71.09375 36.53125 \r\nQ 71.09375 17.671875 61.125 8.828125 \r\nQ 51.171875 0 30.078125 0 \r\nL 9.8125 0 \r\nz\r\n\" id=\"DejaVuSans-68\"/>\r\n      <path d=\"M 44.28125 53.078125 \r\nL 44.28125 44.578125 \r\nQ 40.484375 46.53125 36.375 47.5 \r\nQ 32.28125 48.484375 27.875 48.484375 \r\nQ 21.1875 48.484375 17.84375 46.4375 \r\nQ 14.5 44.390625 14.5 40.28125 \r\nQ 14.5 37.15625 16.890625 35.375 \r\nQ 19.28125 33.59375 26.515625 31.984375 \r\nL 29.59375 31.296875 \r\nQ 39.15625 29.25 43.1875 25.515625 \r\nQ 47.21875 21.78125 47.21875 15.09375 \r\nQ 47.21875 7.46875 41.1875 3.015625 \r\nQ 35.15625 -1.421875 24.609375 -1.421875 \r\nQ 20.21875 -1.421875 15.453125 -0.5625 \r\nQ 10.6875 0.296875 5.421875 2 \r\nL 5.421875 11.28125 \r\nQ 10.40625 8.6875 15.234375 7.390625 \r\nQ 20.0625 6.109375 24.8125 6.109375 \r\nQ 31.15625 6.109375 34.5625 8.28125 \r\nQ 37.984375 10.453125 37.984375 14.40625 \r\nQ 37.984375 18.0625 35.515625 20.015625 \r\nQ 33.0625 21.96875 24.703125 23.78125 \r\nL 21.578125 24.515625 \r\nQ 13.234375 26.265625 9.515625 29.90625 \r\nQ 5.8125 33.546875 5.8125 39.890625 \r\nQ 5.8125 47.609375 11.28125 51.796875 \r\nQ 16.75 56 26.8125 56 \r\nQ 31.78125 56 36.171875 55.265625 \r\nQ 40.578125 54.546875 44.28125 53.078125 \r\nz\r\n\" id=\"DejaVuSans-115\"/>\r\n      <path d=\"M 48.6875 27.296875 \r\nQ 48.6875 37.203125 44.609375 42.84375 \r\nQ 40.53125 48.484375 33.40625 48.484375 \r\nQ 26.265625 48.484375 22.1875 42.84375 \r\nQ 18.109375 37.203125 18.109375 27.296875 \r\nQ 18.109375 17.390625 22.1875 11.75 \r\nQ 26.265625 6.109375 33.40625 6.109375 \r\nQ 40.53125 6.109375 44.609375 11.75 \r\nQ 48.6875 17.390625 48.6875 27.296875 \r\nz\r\nM 18.109375 46.390625 \r\nQ 20.953125 51.265625 25.265625 53.625 \r\nQ 29.59375 56 35.59375 56 \r\nQ 45.5625 56 51.78125 48.09375 \r\nQ 58.015625 40.1875 58.015625 27.296875 \r\nQ 58.015625 14.40625 51.78125 6.484375 \r\nQ 45.5625 -1.421875 35.59375 -1.421875 \r\nQ 29.59375 -1.421875 25.265625 0.953125 \r\nQ 20.953125 3.328125 18.109375 8.203125 \r\nL 18.109375 0 \r\nL 9.078125 0 \r\nL 9.078125 75.984375 \r\nL 18.109375 75.984375 \r\nz\r\n\" id=\"DejaVuSans-98\"/>\r\n      <path id=\"DejaVuSans-32\"/>\r\n      <path d=\"M 37.109375 75.984375 \r\nL 37.109375 68.5 \r\nL 28.515625 68.5 \r\nQ 23.6875 68.5 21.796875 66.546875 \r\nQ 19.921875 64.59375 19.921875 59.515625 \r\nL 19.921875 54.6875 \r\nL 34.71875 54.6875 \r\nL 34.71875 47.703125 \r\nL 19.921875 47.703125 \r\nL 19.921875 0 \r\nL 10.890625 0 \r\nL 10.890625 47.703125 \r\nL 2.296875 47.703125 \r\nL 2.296875 54.6875 \r\nL 10.890625 54.6875 \r\nL 10.890625 58.5 \r\nQ 10.890625 67.625 15.140625 71.796875 \r\nQ 19.390625 75.984375 28.609375 75.984375 \r\nz\r\n\" id=\"DejaVuSans-102\"/>\r\n      <path d=\"M 34.28125 27.484375 \r\nQ 23.390625 27.484375 19.1875 25 \r\nQ 14.984375 22.515625 14.984375 16.5 \r\nQ 14.984375 11.71875 18.140625 8.90625 \r\nQ 21.296875 6.109375 26.703125 6.109375 \r\nQ 34.1875 6.109375 38.703125 11.40625 \r\nQ 43.21875 16.703125 43.21875 25.484375 \r\nL 43.21875 27.484375 \r\nz\r\nM 52.203125 31.203125 \r\nL 52.203125 0 \r\nL 43.21875 0 \r\nL 43.21875 8.296875 \r\nQ 40.140625 3.328125 35.546875 0.953125 \r\nQ 30.953125 -1.421875 24.3125 -1.421875 \r\nQ 15.921875 -1.421875 10.953125 3.296875 \r\nQ 6 8.015625 6 15.921875 \r\nQ 6 25.140625 12.171875 29.828125 \r\nQ 18.359375 34.515625 30.609375 34.515625 \r\nL 43.21875 34.515625 \r\nL 43.21875 35.40625 \r\nQ 43.21875 41.609375 39.140625 45 \r\nQ 35.0625 48.390625 27.6875 48.390625 \r\nQ 23 48.390625 18.546875 47.265625 \r\nQ 14.109375 46.140625 10.015625 43.890625 \r\nL 10.015625 52.203125 \r\nQ 14.9375 54.109375 19.578125 55.046875 \r\nQ 24.21875 56 28.609375 56 \r\nQ 40.484375 56 46.34375 49.84375 \r\nQ 52.203125 43.703125 52.203125 31.203125 \r\nz\r\n\" id=\"DejaVuSans-97\"/>\r\n      <path d=\"M 9.421875 75.984375 \r\nL 18.40625 75.984375 \r\nL 18.40625 0 \r\nL 9.421875 0 \r\nz\r\n\" id=\"DejaVuSans-108\"/>\r\n     </defs>\r\n     <use xlink:href=\"#DejaVuSans-68\"/>\r\n     <use x=\"77.001953\" xlink:href=\"#DejaVuSans-105\"/>\r\n     <use x=\"104.785156\" xlink:href=\"#DejaVuSans-115\"/>\r\n     <use x=\"156.884766\" xlink:href=\"#DejaVuSans-116\"/>\r\n     <use x=\"196.09375\" xlink:href=\"#DejaVuSans-114\"/>\r\n     <use x=\"237.207031\" xlink:href=\"#DejaVuSans-105\"/>\r\n     <use x=\"264.990234\" xlink:href=\"#DejaVuSans-98\"/>\r\n     <use x=\"328.466797\" xlink:href=\"#DejaVuSans-117\"/>\r\n     <use x=\"391.845703\" xlink:href=\"#DejaVuSans-116\"/>\r\n     <use x=\"431.054688\" xlink:href=\"#DejaVuSans-105\"/>\r\n     <use x=\"458.837891\" xlink:href=\"#DejaVuSans-111\"/>\r\n     <use x=\"520.019531\" xlink:href=\"#DejaVuSans-110\"/>\r\n     <use x=\"583.398438\" xlink:href=\"#DejaVuSans-32\"/>\r\n     <use x=\"615.185547\" xlink:href=\"#DejaVuSans-111\"/>\r\n     <use x=\"676.367188\" xlink:href=\"#DejaVuSans-102\"/>\r\n     <use x=\"711.572266\" xlink:href=\"#DejaVuSans-32\"/>\r\n     <use x=\"743.359375\" xlink:href=\"#DejaVuSans-97\"/>\r\n     <use x=\"804.638672\" xlink:href=\"#DejaVuSans-108\"/>\r\n     <use x=\"832.421875\" xlink:href=\"#DejaVuSans-108\"/>\r\n     <use x=\"860.205078\" xlink:href=\"#DejaVuSans-32\"/>\r\n     <use x=\"891.992188\" xlink:href=\"#DejaVuSans-111\"/>\r\n     <use x=\"953.173828\" xlink:href=\"#DejaVuSans-114\"/>\r\n     <use x=\"992.537109\" xlink:href=\"#DejaVuSans-100\"/>\r\n     <use x=\"1056.013672\" xlink:href=\"#DejaVuSans-101\"/>\r\n     <use x=\"1117.537109\" xlink:href=\"#DejaVuSans-114\"/>\r\n     <use x=\"1156.900391\" xlink:href=\"#DejaVuSans-100\"/>\r\n     <use x=\"1220.376953\" xlink:href=\"#DejaVuSans-32\"/>\r\n     <use x=\"1252.164062\" xlink:href=\"#DejaVuSans-105\"/>\r\n     <use x=\"1279.947266\" xlink:href=\"#DejaVuSans-116\"/>\r\n     <use x=\"1319.15625\" xlink:href=\"#DejaVuSans-101\"/>\r\n     <use x=\"1380.679688\" xlink:href=\"#DejaVuSans-109\"/>\r\n    </g>\r\n   </g>\r\n  </g>\r\n </g>\r\n <defs>\r\n  <clipPath id=\"p9ba17591bd\">\r\n   <rect height=\"217.44\" width=\"334.8\" x=\"47.24375\" y=\"22.318125\"/>\r\n  </clipPath>\r\n </defs>\r\n</svg>\r\n",
      "image/png": "[encoded data removed]"
     },
     "metadata": {
      "needs_background": "light"
     }
    }
   ],
   "source": [
    "%matplotlib inline\n",
    "import numpy as np \n",
    "import matplotlib.pyplot as plt \n",
    "\n",
    "item_name_list = item_quantity.index.tolist()\n",
    "x_pos = np.arange(len(item_name_list))\n",
    "order_cnt = item_quantity.values.tolist()\n",
    "\n",
    "plt.bar(x_pos, order_cnt, align='center')\n",
    "plt.ylabel('ordered_item_count')\n",
    "plt.title('Distribution of all orderd item')\n",
    "\n",
    "plt.show()"
   ]
  },
  {
   "source": [
    "- [<Step4. 탐색적 분석> : 스무고개로 분석하는 개념적 탐색](#<Step4.-탐색적-분석>-:-스무고개로-분석하는-개념적-탐색)\n",
    "    - [주문당 평균 계산금액 출력하기]\n",
    "    - [한 주문에 10달러 이상 사용한 주문 번호(id) 출력하기]\n",
    "    - [각 아이템의 가격 구하기]\n",
    "    - [가장 비싼 주문에서 item이 총 몇개 팔렸는지 구하기]\n",
    "    - [“Veggie Salad Bowl”이 몇 번 주문되었는지 구하기]\n",
    "    - [“Chicken Bowl”을 2개 이상 주문한 주문 횟수 구하기]"
   ],
   "cell_type": "markdown",
   "metadata": {}
  },
  {
   "cell_type": "code",
   "execution_count": 6,
   "metadata": {},
   "outputs": [
    {
     "output_type": "execute_result",
     "data": {
      "text/plain": [
       "<bound method Series.mean of order_id\n",
       "1       11.56\n",
       "10      13.20\n",
       "100     10.08\n",
       "1000    20.50\n",
       "1001    10.08\n",
       "        ...  \n",
       "995     24.95\n",
       "996     43.00\n",
       "997     22.50\n",
       "998     10.88\n",
       "999     29.25\n",
       "Name: item_price, Length: 1834, dtype: float64>"
      ]
     },
     "metadata": {},
     "execution_count": 6
    }
   ],
   "source": [
    "# 주문당 평균 계산금액 출력하기\n",
    "total_price = chipotle.groupby('order_id')['item_price'].sum()\n",
    "total_price[:10]\n",
    "total_price.mean"
   ]
  },
  {
   "source": [
    "- [한 주문에 10달러 이상 사용한 주문 번호(id) 출력하기]"
   ],
   "cell_type": "markdown",
   "metadata": {}
  },
  {
   "cell_type": "code",
   "execution_count": 15,
   "metadata": {},
   "outputs": [
    {
     "output_type": "execute_result",
     "data": {
      "text/plain": [
       "  order_id  quantity                              item_name  \\\n",
       "0        1         1           Chips and Fresh Tomato Salsa   \n",
       "1        1         1                                   Izze   \n",
       "2        1         1                       Nantucket Nectar   \n",
       "3        1         1  Chips and Tomatillo-Green Chili Salsa   \n",
       "4        2         2                           Chicken Bowl   \n",
       "\n",
       "                                  choice_description  item_price  \n",
       "0                                                NaN        2.39  \n",
       "1                                       [Clementine]        3.39  \n",
       "2                                            [Apple]        3.39  \n",
       "3                                                NaN        2.39  \n",
       "4  [Tomatillo-Red Chili Salsa (Hot), [Black Beans...       16.98  "
      ],
      "text/html": "<div>\n<style scoped>\n    .dataframe tbody tr th:only-of-type {\n        vertical-align: middle;\n    }\n\n    .dataframe tbody tr th {\n        vertical-align: top;\n    }\n\n    .dataframe thead th {\n        text-align: right;\n    }\n</style>\n<table border=\"1\" class=\"dataframe\">\n  <thead>\n    <tr style=\"text-align: right;\">\n      <th></th>\n      <th>order_id</th>\n      <th>quantity</th>\n      <th>item_name</th>\n      <th>choice_description</th>\n      <th>item_price</th>\n    </tr>\n  </thead>\n  <tbody>\n    <tr>\n      <th>0</th>\n      <td>1</td>\n      <td>1</td>\n      <td>Chips and Fresh Tomato Salsa</td>\n      <td>NaN</td>\n      <td>2.39</td>\n    </tr>\n    <tr>\n      <th>1</th>\n      <td>1</td>\n      <td>1</td>\n      <td>Izze</td>\n      <td>[Clementine]</td>\n      <td>3.39</td>\n    </tr>\n    <tr>\n      <th>2</th>\n      <td>1</td>\n      <td>1</td>\n      <td>Nantucket Nectar</td>\n      <td>[Apple]</td>\n      <td>3.39</td>\n    </tr>\n    <tr>\n      <th>3</th>\n      <td>1</td>\n      <td>1</td>\n      <td>Chips and Tomatillo-Green Chili Salsa</td>\n      <td>NaN</td>\n      <td>2.39</td>\n    </tr>\n    <tr>\n      <th>4</th>\n      <td>2</td>\n      <td>2</td>\n      <td>Chicken Bowl</td>\n      <td>[Tomatillo-Red Chili Salsa (Hot), [Black Beans...</td>\n      <td>16.98</td>\n    </tr>\n  </tbody>\n</table>\n</div>"
     },
     "metadata": {},
     "execution_count": 15
    }
   ],
   "source": [
    "chipotle.head()"
   ]
  },
  {
   "cell_type": "code",
   "execution_count": 16,
   "metadata": {},
   "outputs": [
    {
     "output_type": "execute_result",
     "data": {
      "text/plain": [
       "          quantity  item_price\n",
       "order_id                      \n",
       "1             1.00    2.890000\n",
       "10            1.00    6.600000\n",
       "100           1.00    5.040000\n",
       "1000          1.00   10.250000\n",
       "1001          1.00    5.040000\n",
       "...            ...         ...\n",
       "995           1.00    8.316667\n",
       "996           1.00   10.750000\n",
       "997           2.00   22.500000\n",
       "998           1.00    5.440000\n",
       "999           1.25    7.312500\n",
       "\n",
       "[1834 rows x 2 columns]"
      ],
      "text/html": "<div>\n<style scoped>\n    .dataframe tbody tr th:only-of-type {\n        vertical-align: middle;\n    }\n\n    .dataframe tbody tr th {\n        vertical-align: top;\n    }\n\n    .dataframe thead th {\n        text-align: right;\n    }\n</style>\n<table border=\"1\" class=\"dataframe\">\n  <thead>\n    <tr style=\"text-align: right;\">\n      <th></th>\n      <th>quantity</th>\n      <th>item_price</th>\n    </tr>\n    <tr>\n      <th>order_id</th>\n      <th></th>\n      <th></th>\n    </tr>\n  </thead>\n  <tbody>\n    <tr>\n      <th>1</th>\n      <td>1.00</td>\n      <td>2.890000</td>\n    </tr>\n    <tr>\n      <th>10</th>\n      <td>1.00</td>\n      <td>6.600000</td>\n    </tr>\n    <tr>\n      <th>100</th>\n      <td>1.00</td>\n      <td>5.040000</td>\n    </tr>\n    <tr>\n      <th>1000</th>\n      <td>1.00</td>\n      <td>10.250000</td>\n    </tr>\n    <tr>\n      <th>1001</th>\n      <td>1.00</td>\n      <td>5.040000</td>\n    </tr>\n    <tr>\n      <th>...</th>\n      <td>...</td>\n      <td>...</td>\n    </tr>\n    <tr>\n      <th>995</th>\n      <td>1.00</td>\n      <td>8.316667</td>\n    </tr>\n    <tr>\n      <th>996</th>\n      <td>1.00</td>\n      <td>10.750000</td>\n    </tr>\n    <tr>\n      <th>997</th>\n      <td>2.00</td>\n      <td>22.500000</td>\n    </tr>\n    <tr>\n      <th>998</th>\n      <td>1.00</td>\n      <td>5.440000</td>\n    </tr>\n    <tr>\n      <th>999</th>\n      <td>1.25</td>\n      <td>7.312500</td>\n    </tr>\n  </tbody>\n</table>\n<p>1834 rows × 2 columns</p>\n</div>"
     },
     "metadata": {},
     "execution_count": 16
    }
   ],
   "source": [
    "chipo_orderid_group = chipotle.groupby('order_id')\n",
    "chipo_orderid_group.mean()"
   ]
  },
  {
   "cell_type": "code",
   "execution_count": 41,
   "metadata": {},
   "outputs": [
    {
     "output_type": "execute_result",
     "data": {
      "text/plain": [
       "                                      order_id  quantity  \\\n",
       "item_name                                                  \n",
       "6 Pack Soft Drink                         1076         1   \n",
       "Barbacoa Bowl                             1000         1   \n",
       "Barbacoa Burrito                          1002         1   \n",
       "Barbacoa Crispy Tacos                      110         1   \n",
       "Barbacoa Salad Bowl                       1283         1   \n",
       "Barbacoa Soft Tacos                       1103         1   \n",
       "Bottled Water                             1009         1   \n",
       "Bowl                                       279         1   \n",
       "Burrito                                    214         1   \n",
       "Canned Soda                                100         1   \n",
       "Canned Soft Drink                         1003         1   \n",
       "Carnitas Bowl                             1007         1   \n",
       "Carnitas Burrito                          1003         1   \n",
       "Carnitas Crispy Tacos                     1774         1   \n",
       "Carnitas Salad                            1500         1   \n",
       "Carnitas Salad Bowl                       1035         1   \n",
       "Carnitas Soft Tacos                       1011         1   \n",
       "Chicken Bowl                                10         1   \n",
       "Chicken Burrito                           1005         1   \n",
       "Chicken Crispy Tacos                      1010         1   \n",
       "Chicken Salad                              109         1   \n",
       "Chicken Salad Bowl                        1015         1   \n",
       "Chicken Soft Tacos                        1006         1   \n",
       "Chips                                     1005         1   \n",
       "Chips and Fresh Tomato Salsa                 1         1   \n",
       "Chips and Guacamole                         10         1   \n",
       "Chips and Mild Fresh Tomato Salsa          279         1   \n",
       "Chips and Roasted Chili Corn Salsa         102         1   \n",
       "Chips and Roasted Chili-Corn Salsa        1156         1   \n",
       "Chips and Tomatillo Green Chili Salsa      102         1   \n",
       "Chips and Tomatillo Red Chili Salsa       1020         1   \n",
       "Chips and Tomatillo-Green Chili Salsa        1         1   \n",
       "Chips and Tomatillo-Red Chili Salsa       1215         1   \n",
       "Crispy Tacos                               217         1   \n",
       "Izze                                         1         1   \n",
       "Nantucket Nectar                             1         1   \n",
       "Salad                                      575         1   \n",
       "Side of Chips                             1002         1   \n",
       "Steak Bowl                                1006         1   \n",
       "Steak Burrito                              100         1   \n",
       "Steak Crispy Tacos                        1044         1   \n",
       "Steak Salad                               1406         1   \n",
       "Steak Salad Bowl                          1032         1   \n",
       "Steak Soft Tacos                          1054         1   \n",
       "Veggie Bowl                               1006         1   \n",
       "Veggie Burrito                            1033         1   \n",
       "Veggie Crispy Tacos                        668         1   \n",
       "Veggie Salad                              1094         1   \n",
       "Veggie Salad Bowl                         1066         1   \n",
       "Veggie Soft Tacos                         1132         1   \n",
       "\n",
       "                                                                      choice_description  \\\n",
       "item_name                                                                                  \n",
       "6 Pack Soft Drink                                                                 [Coke]   \n",
       "Barbacoa Bowl                          [Fresh Tomato (Mild), [Lettuce, Black Beans, R...   \n",
       "Barbacoa Burrito                       [Fresh Tomato (Mild), [Black Beans, Rice, Sour...   \n",
       "Barbacoa Crispy Tacos                                    [Fresh Tomato Salsa, Guacamole]   \n",
       "Barbacoa Salad Bowl                                      [Fresh Tomato Salsa, Guacamole]   \n",
       "Barbacoa Soft Tacos                    [Fresh Tomato Salsa, [Black Beans, Cheese, Let...   \n",
       "Bottled Water                                                                        NaN   \n",
       "Bowl                                   [Adobo-Marinated and Grilled Steak, [Sour Crea...   \n",
       "Burrito                                [Adobo-Marinated and Grilled Chicken, Pinto Be...   \n",
       "Canned Soda                                                                  [Coca Cola]   \n",
       "Canned Soft Drink                                                                 [Coke]   \n",
       "Carnitas Bowl                          [Fresh Tomato (Mild), [Guacamole, Lettuce, Ric...   \n",
       "Carnitas Burrito                       [Fresh Tomato (Mild), [Lettuce, Black Beans, G...   \n",
       "Carnitas Crispy Tacos                  [Fresh Tomato Salsa, [Fajita Vegetables, Rice,...   \n",
       "Carnitas Salad                         [[Fresh Tomato Salsa (Mild), Roasted Chili Cor...   \n",
       "Carnitas Salad Bowl                    [Fresh Tomato Salsa, [Rice, Black Beans, Chees...   \n",
       "Carnitas Soft Tacos                    [Fresh Tomato Salsa (Mild), [Black Beans, Rice...   \n",
       "Chicken Bowl                                    [Fresh Tomato (Mild), [Guacamole, Rice]]   \n",
       "Chicken Burrito                        [Fresh Tomato (Mild), [Black Beans, Rice, Sour...   \n",
       "Chicken Crispy Tacos                         [Fresh Tomato Salsa (Mild), Fajita Veggies]   \n",
       "Chicken Salad                                   [Fresh Tomato Salsa (Mild), Black Beans]   \n",
       "Chicken Salad Bowl                               [Fresh Tomato Salsa, Fajita Vegetables]   \n",
       "Chicken Soft Tacos                     [Fresh Tomato Salsa (Mild), [Black Beans, Rice...   \n",
       "Chips                                                                                NaN   \n",
       "Chips and Fresh Tomato Salsa                                                         NaN   \n",
       "Chips and Guacamole                                                                  NaN   \n",
       "Chips and Mild Fresh Tomato Salsa                                                    NaN   \n",
       "Chips and Roasted Chili Corn Salsa                                                   NaN   \n",
       "Chips and Roasted Chili-Corn Salsa                                                   NaN   \n",
       "Chips and Tomatillo Green Chili Salsa                                                NaN   \n",
       "Chips and Tomatillo Red Chili Salsa                                                  NaN   \n",
       "Chips and Tomatillo-Green Chili Salsa                                                NaN   \n",
       "Chips and Tomatillo-Red Chili Salsa                                                  NaN   \n",
       "Crispy Tacos                                       [Adobo-Marinated and Grilled Chicken]   \n",
       "Izze                                                                        [Blackberry]   \n",
       "Nantucket Nectar                                                                 [Apple]   \n",
       "Salad                                  [Brown Rice, Adobo-Marinated and Grilled Chick...   \n",
       "Side of Chips                                                                        NaN   \n",
       "Steak Bowl                             [Fresh Tomato (Mild), [Guacamole, Lettuce, Pin...   \n",
       "Steak Burrito                                                               [Brown Rice]   \n",
       "Steak Crispy Tacos                              [Fresh Tomato (Mild), [Lettuce, Cheese]]   \n",
       "Steak Salad                            [Fresh Tomato Salsa (Mild), [Rice, Cheese, Sou...   \n",
       "Steak Salad Bowl                                           [Fresh Tomato Salsa, Lettuce]   \n",
       "Steak Soft Tacos                       [Fresh Tomato Salsa (Mild), [Cheese, Sour Cream]]   \n",
       "Veggie Bowl                            [Fresh Tomato Salsa (Mild), [Pinto Beans, Blac...   \n",
       "Veggie Burrito                         [Fresh Tomato Salsa (Mild), [Black Beans, Faji...   \n",
       "Veggie Crispy Tacos                    [Fresh Tomato Salsa (Mild), [Pinto Beans, Rice...   \n",
       "Veggie Salad                           [Roasted Chili Corn Salsa (Medium), [Black Bea...   \n",
       "Veggie Salad Bowl                      [Fresh Tomato Salsa, [Fajita Vegetables, Black...   \n",
       "Veggie Soft Tacos                      [Fresh Tomato Salsa (Mild), [Pinto Beans, Rice...   \n",
       "\n",
       "                                       item_price  \n",
       "item_name                                          \n",
       "6 Pack Soft Drink                            6.49  \n",
       "Barbacoa Bowl                                8.69  \n",
       "Barbacoa Burrito                             8.69  \n",
       "Barbacoa Crispy Tacos                        8.99  \n",
       "Barbacoa Salad Bowl                          9.39  \n",
       "Barbacoa Soft Tacos                          8.99  \n",
       "Bottled Water                                1.09  \n",
       "Bowl                                         7.40  \n",
       "Burrito                                      7.40  \n",
       "Canned Soda                                  1.09  \n",
       "Canned Soft Drink                            1.25  \n",
       "Carnitas Bowl                                8.99  \n",
       "Carnitas Burrito                             8.69  \n",
       "Carnitas Crispy Tacos                        8.99  \n",
       "Carnitas Salad                               8.99  \n",
       "Carnitas Salad Bowl                          9.39  \n",
       "Carnitas Soft Tacos                          8.99  \n",
       "Chicken Bowl                                 8.19  \n",
       "Chicken Burrito                              8.19  \n",
       "Chicken Crispy Tacos                         8.49  \n",
       "Chicken Salad                                8.19  \n",
       "Chicken Salad Bowl                           8.75  \n",
       "Chicken Soft Tacos                           8.49  \n",
       "Chips                                        1.99  \n",
       "Chips and Fresh Tomato Salsa                 2.29  \n",
       "Chips and Guacamole                          3.89  \n",
       "Chips and Mild Fresh Tomato Salsa            3.00  \n",
       "Chips and Roasted Chili Corn Salsa           2.95  \n",
       "Chips and Roasted Chili-Corn Salsa           2.39  \n",
       "Chips and Tomatillo Green Chili Salsa        2.95  \n",
       "Chips and Tomatillo Red Chili Salsa          2.95  \n",
       "Chips and Tomatillo-Green Chili Salsa        2.39  \n",
       "Chips and Tomatillo-Red Chili Salsa          2.39  \n",
       "Crispy Tacos                                 7.40  \n",
       "Izze                                         3.39  \n",
       "Nantucket Nectar                             3.39  \n",
       "Salad                                        7.40  \n",
       "Side of Chips                                1.69  \n",
       "Steak Bowl                                   8.69  \n",
       "Steak Burrito                                8.69  \n",
       "Steak Crispy Tacos                           8.69  \n",
       "Steak Salad                                  8.69  \n",
       "Steak Salad Bowl                             9.39  \n",
       "Steak Soft Tacos                             8.99  \n",
       "Veggie Bowl                                  8.49  \n",
       "Veggie Burrito                               8.49  \n",
       "Veggie Crispy Tacos                          8.49  \n",
       "Veggie Salad                                 8.49  \n",
       "Veggie Salad Bowl                            8.75  \n",
       "Veggie Soft Tacos                            8.49  "
      ],
      "text/html": "<div>\n<style scoped>\n    .dataframe tbody tr th:only-of-type {\n        vertical-align: middle;\n    }\n\n    .dataframe tbody tr th {\n        vertical-align: top;\n    }\n\n    .dataframe thead th {\n        text-align: right;\n    }\n</style>\n<table border=\"1\" class=\"dataframe\">\n  <thead>\n    <tr style=\"text-align: right;\">\n      <th></th>\n      <th>order_id</th>\n      <th>quantity</th>\n      <th>choice_description</th>\n      <th>item_price</th>\n    </tr>\n    <tr>\n      <th>item_name</th>\n      <th></th>\n      <th></th>\n      <th></th>\n      <th></th>\n    </tr>\n  </thead>\n  <tbody>\n    <tr>\n      <th>6 Pack Soft Drink</th>\n      <td>1076</td>\n      <td>1</td>\n      <td>[Coke]</td>\n      <td>6.49</td>\n    </tr>\n    <tr>\n      <th>Barbacoa Bowl</th>\n      <td>1000</td>\n      <td>1</td>\n      <td>[Fresh Tomato (Mild), [Lettuce, Black Beans, R...</td>\n      <td>8.69</td>\n    </tr>\n    <tr>\n      <th>Barbacoa Burrito</th>\n      <td>1002</td>\n      <td>1</td>\n      <td>[Fresh Tomato (Mild), [Black Beans, Rice, Sour...</td>\n      <td>8.69</td>\n    </tr>\n    <tr>\n      <th>Barbacoa Crispy Tacos</th>\n      <td>110</td>\n      <td>1</td>\n      <td>[Fresh Tomato Salsa, Guacamole]</td>\n      <td>8.99</td>\n    </tr>\n    <tr>\n      <th>Barbacoa Salad Bowl</th>\n      <td>1283</td>\n      <td>1</td>\n      <td>[Fresh Tomato Salsa, Guacamole]</td>\n      <td>9.39</td>\n    </tr>\n    <tr>\n      <th>Barbacoa Soft Tacos</th>\n      <td>1103</td>\n      <td>1</td>\n      <td>[Fresh Tomato Salsa, [Black Beans, Cheese, Let...</td>\n      <td>8.99</td>\n    </tr>\n    <tr>\n      <th>Bottled Water</th>\n      <td>1009</td>\n      <td>1</td>\n      <td>NaN</td>\n      <td>1.09</td>\n    </tr>\n    <tr>\n      <th>Bowl</th>\n      <td>279</td>\n      <td>1</td>\n      <td>[Adobo-Marinated and Grilled Steak, [Sour Crea...</td>\n      <td>7.40</td>\n    </tr>\n    <tr>\n      <th>Burrito</th>\n      <td>214</td>\n      <td>1</td>\n      <td>[Adobo-Marinated and Grilled Chicken, Pinto Be...</td>\n      <td>7.40</td>\n    </tr>\n    <tr>\n      <th>Canned Soda</th>\n      <td>100</td>\n      <td>1</td>\n      <td>[Coca Cola]</td>\n      <td>1.09</td>\n    </tr>\n    <tr>\n      <th>Canned Soft Drink</th>\n      <td>1003</td>\n      <td>1</td>\n      <td>[Coke]</td>\n      <td>1.25</td>\n    </tr>\n    <tr>\n      <th>Carnitas Bowl</th>\n      <td>1007</td>\n      <td>1</td>\n      <td>[Fresh Tomato (Mild), [Guacamole, Lettuce, Ric...</td>\n      <td>8.99</td>\n    </tr>\n    <tr>\n      <th>Carnitas Burrito</th>\n      <td>1003</td>\n      <td>1</td>\n      <td>[Fresh Tomato (Mild), [Lettuce, Black Beans, G...</td>\n      <td>8.69</td>\n    </tr>\n    <tr>\n      <th>Carnitas Crispy Tacos</th>\n      <td>1774</td>\n      <td>1</td>\n      <td>[Fresh Tomato Salsa, [Fajita Vegetables, Rice,...</td>\n      <td>8.99</td>\n    </tr>\n    <tr>\n      <th>Carnitas Salad</th>\n      <td>1500</td>\n      <td>1</td>\n      <td>[[Fresh Tomato Salsa (Mild), Roasted Chili Cor...</td>\n      <td>8.99</td>\n    </tr>\n    <tr>\n      <th>Carnitas Salad Bowl</th>\n      <td>1035</td>\n      <td>1</td>\n      <td>[Fresh Tomato Salsa, [Rice, Black Beans, Chees...</td>\n      <td>9.39</td>\n    </tr>\n    <tr>\n      <th>Carnitas Soft Tacos</th>\n      <td>1011</td>\n      <td>1</td>\n      <td>[Fresh Tomato Salsa (Mild), [Black Beans, Rice...</td>\n      <td>8.99</td>\n    </tr>\n    <tr>\n      <th>Chicken Bowl</th>\n      <td>10</td>\n      <td>1</td>\n      <td>[Fresh Tomato (Mild), [Guacamole, Rice]]</td>\n      <td>8.19</td>\n    </tr>\n    <tr>\n      <th>Chicken Burrito</th>\n      <td>1005</td>\n      <td>1</td>\n      <td>[Fresh Tomato (Mild), [Black Beans, Rice, Sour...</td>\n      <td>8.19</td>\n    </tr>\n    <tr>\n      <th>Chicken Crispy Tacos</th>\n      <td>1010</td>\n      <td>1</td>\n      <td>[Fresh Tomato Salsa (Mild), Fajita Veggies]</td>\n      <td>8.49</td>\n    </tr>\n    <tr>\n      <th>Chicken Salad</th>\n      <td>109</td>\n      <td>1</td>\n      <td>[Fresh Tomato Salsa (Mild), Black Beans]</td>\n      <td>8.19</td>\n    </tr>\n    <tr>\n      <th>Chicken Salad Bowl</th>\n      <td>1015</td>\n      <td>1</td>\n      <td>[Fresh Tomato Salsa, Fajita Vegetables]</td>\n      <td>8.75</td>\n    </tr>\n    <tr>\n      <th>Chicken Soft Tacos</th>\n      <td>1006</td>\n      <td>1</td>\n      <td>[Fresh Tomato Salsa (Mild), [Black Beans, Rice...</td>\n      <td>8.49</td>\n    </tr>\n    <tr>\n      <th>Chips</th>\n      <td>1005</td>\n      <td>1</td>\n      <td>NaN</td>\n      <td>1.99</td>\n    </tr>\n    <tr>\n      <th>Chips and Fresh Tomato Salsa</th>\n      <td>1</td>\n      <td>1</td>\n      <td>NaN</td>\n      <td>2.29</td>\n    </tr>\n    <tr>\n      <th>Chips and Guacamole</th>\n      <td>10</td>\n      <td>1</td>\n      <td>NaN</td>\n      <td>3.89</td>\n    </tr>\n    <tr>\n      <th>Chips and Mild Fresh Tomato Salsa</th>\n      <td>279</td>\n      <td>1</td>\n      <td>NaN</td>\n      <td>3.00</td>\n    </tr>\n    <tr>\n      <th>Chips and Roasted Chili Corn Salsa</th>\n      <td>102</td>\n      <td>1</td>\n      <td>NaN</td>\n      <td>2.95</td>\n    </tr>\n    <tr>\n      <th>Chips and Roasted Chili-Corn Salsa</th>\n      <td>1156</td>\n      <td>1</td>\n      <td>NaN</td>\n      <td>2.39</td>\n    </tr>\n    <tr>\n      <th>Chips and Tomatillo Green Chili Salsa</th>\n      <td>102</td>\n      <td>1</td>\n      <td>NaN</td>\n      <td>2.95</td>\n    </tr>\n    <tr>\n      <th>Chips and Tomatillo Red Chili Salsa</th>\n      <td>1020</td>\n      <td>1</td>\n      <td>NaN</td>\n      <td>2.95</td>\n    </tr>\n    <tr>\n      <th>Chips and Tomatillo-Green Chili Salsa</th>\n      <td>1</td>\n      <td>1</td>\n      <td>NaN</td>\n      <td>2.39</td>\n    </tr>\n    <tr>\n      <th>Chips and Tomatillo-Red Chili Salsa</th>\n      <td>1215</td>\n      <td>1</td>\n      <td>NaN</td>\n      <td>2.39</td>\n    </tr>\n    <tr>\n      <th>Crispy Tacos</th>\n      <td>217</td>\n      <td>1</td>\n      <td>[Adobo-Marinated and Grilled Chicken]</td>\n      <td>7.40</td>\n    </tr>\n    <tr>\n      <th>Izze</th>\n      <td>1</td>\n      <td>1</td>\n      <td>[Blackberry]</td>\n      <td>3.39</td>\n    </tr>\n    <tr>\n      <th>Nantucket Nectar</th>\n      <td>1</td>\n      <td>1</td>\n      <td>[Apple]</td>\n      <td>3.39</td>\n    </tr>\n    <tr>\n      <th>Salad</th>\n      <td>575</td>\n      <td>1</td>\n      <td>[Brown Rice, Adobo-Marinated and Grilled Chick...</td>\n      <td>7.40</td>\n    </tr>\n    <tr>\n      <th>Side of Chips</th>\n      <td>1002</td>\n      <td>1</td>\n      <td>NaN</td>\n      <td>1.69</td>\n    </tr>\n    <tr>\n      <th>Steak Bowl</th>\n      <td>1006</td>\n      <td>1</td>\n      <td>[Fresh Tomato (Mild), [Guacamole, Lettuce, Pin...</td>\n      <td>8.69</td>\n    </tr>\n    <tr>\n      <th>Steak Burrito</th>\n      <td>100</td>\n      <td>1</td>\n      <td>[Brown Rice]</td>\n      <td>8.69</td>\n    </tr>\n    <tr>\n      <th>Steak Crispy Tacos</th>\n      <td>1044</td>\n      <td>1</td>\n      <td>[Fresh Tomato (Mild), [Lettuce, Cheese]]</td>\n      <td>8.69</td>\n    </tr>\n    <tr>\n      <th>Steak Salad</th>\n      <td>1406</td>\n      <td>1</td>\n      <td>[Fresh Tomato Salsa (Mild), [Rice, Cheese, Sou...</td>\n      <td>8.69</td>\n    </tr>\n    <tr>\n      <th>Steak Salad Bowl</th>\n      <td>1032</td>\n      <td>1</td>\n      <td>[Fresh Tomato Salsa, Lettuce]</td>\n      <td>9.39</td>\n    </tr>\n    <tr>\n      <th>Steak Soft Tacos</th>\n      <td>1054</td>\n      <td>1</td>\n      <td>[Fresh Tomato Salsa (Mild), [Cheese, Sour Cream]]</td>\n      <td>8.99</td>\n    </tr>\n    <tr>\n      <th>Veggie Bowl</th>\n      <td>1006</td>\n      <td>1</td>\n      <td>[Fresh Tomato Salsa (Mild), [Pinto Beans, Blac...</td>\n      <td>8.49</td>\n    </tr>\n    <tr>\n      <th>Veggie Burrito</th>\n      <td>1033</td>\n      <td>1</td>\n      <td>[Fresh Tomato Salsa (Mild), [Black Beans, Faji...</td>\n      <td>8.49</td>\n    </tr>\n    <tr>\n      <th>Veggie Crispy Tacos</th>\n      <td>668</td>\n      <td>1</td>\n      <td>[Fresh Tomato Salsa (Mild), [Pinto Beans, Rice...</td>\n      <td>8.49</td>\n    </tr>\n    <tr>\n      <th>Veggie Salad</th>\n      <td>1094</td>\n      <td>1</td>\n      <td>[Roasted Chili Corn Salsa (Medium), [Black Bea...</td>\n      <td>8.49</td>\n    </tr>\n    <tr>\n      <th>Veggie Salad Bowl</th>\n      <td>1066</td>\n      <td>1</td>\n      <td>[Fresh Tomato Salsa, [Fajita Vegetables, Black...</td>\n      <td>8.75</td>\n    </tr>\n    <tr>\n      <th>Veggie Soft Tacos</th>\n      <td>1132</td>\n      <td>1</td>\n      <td>[Fresh Tomato Salsa (Mild), [Pinto Beans, Rice...</td>\n      <td>8.49</td>\n    </tr>\n  </tbody>\n</table>\n</div>"
     },
     "metadata": {},
     "execution_count": 41
    }
   ],
   "source": [
    "# chipo_one_item = chipotle[chipotle.quantity == 1]\n",
    "# chipo_per_item = chipo_one_item.groupby('item_name').min()\n",
    "# chipo_per_item"
   ]
  }
 ],
 "metadata": {
  "kernelspec": {
   "display_name": "Python 3",
   "language": "python",
   "name": "python3"
  },
  "language_info": {
   "codemirror_mode": {
    "name": "ipython",
    "version": 3
   },
   "file_extension": ".py",
   "mimetype": "text/x-python",
   "name": "python",
   "nbconvert_exporter": "python",
   "pygments_lexer": "ipython3",
   "version": "3.8.6-candidate"
  }
 },
 "nbformat": 4,
 "nbformat_minor": 4
}